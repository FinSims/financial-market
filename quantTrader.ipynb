{
 "cells": [
  {
   "cell_type": "code",
   "execution_count": 618,
   "metadata": {},
   "outputs": [
    {
     "name": "stdout",
     "output_type": "stream",
     "text": [
      "yfinance.Ticker object <XBI>\n"
     ]
    }
   ],
   "source": [
    "import pandas as pd\n",
    "import numpy as np\n",
    "import torch\n",
    "import torch.nn as nn\n",
    "import torch.optim as optim\n",
    "import matplotlib.pyplot as plt\n",
    "import yfinance as yf\n",
    "import datetime\n",
    "\n",
    "msft = yf.Ticker(\"C\")\n",
    "print(msft)\n",
    "device = torch.device(\"cuda\" if torch.cuda.is_available() else \"cpu\")\n"
   ]
  },
  {
   "cell_type": "code",
   "execution_count": 619,
   "metadata": {},
   "outputs": [
    {
     "data": {
      "text/plain": [
       "{'longBusinessSummary': 'In seeking to track the performance of the S&P Biotechnology Select Industry Index (the \"index\"), the fund employs a sampling strategy. It generally invests substantially all, but at least 80%, of its total assets in the securities comprising the index. The index represents the biotechnology segment of the S&P Total Market Index (\"S&P TMI\").',\n",
       " 'maxAge': 86400,\n",
       " 'priceHint': 2,\n",
       " 'previousClose': 95.48,\n",
       " 'open': 96.83,\n",
       " 'dayLow': 96.6699,\n",
       " 'dayHigh': 98.77,\n",
       " 'regularMarketPreviousClose': 95.48,\n",
       " 'regularMarketOpen': 96.83,\n",
       " 'regularMarketDayLow': 96.6699,\n",
       " 'regularMarketDayHigh': 98.77,\n",
       " 'volume': 14557229,\n",
       " 'regularMarketVolume': 14557229,\n",
       " 'averageVolume': 9163375,\n",
       " 'averageVolume10days': 7489080,\n",
       " 'averageDailyVolume10Day': 7489080,\n",
       " 'bidSize': 1000,\n",
       " 'askSize': 1100,\n",
       " 'yield': 0.0014,\n",
       " 'totalAssets': 7125551616,\n",
       " 'fiftyTwoWeekLow': 63.8,\n",
       " 'fiftyTwoWeekHigh': 103.52,\n",
       " 'fiftyDayAverage': 91.2666,\n",
       " 'twoHundredDayAverage': 85.50625,\n",
       " 'navPrice': 95.505,\n",
       " 'currency': 'USD',\n",
       " 'category': 'Health',\n",
       " 'ytdReturn': 0.070634,\n",
       " 'beta3Year': 0.97,\n",
       " 'fundFamily': 'SPDR State Street Global Advisors',\n",
       " 'fundInceptionDate': 1138665600,\n",
       " 'legalType': 'Exchange Traded Fund',\n",
       " 'threeYearAverageReturn': -0.1059591,\n",
       " 'fiveYearAverageReturn': 0.0192337,\n",
       " 'exchange': 'PCX',\n",
       " 'quoteType': 'ETF',\n",
       " 'symbol': 'XBI',\n",
       " 'underlyingSymbol': 'XBI',\n",
       " 'shortName': 'SPDR Series Trust  SPDR S&P Bio',\n",
       " 'longName': 'SPDR S&P Biotech ETF',\n",
       " 'firstTradeDateEpochUtc': 1139236200,\n",
       " 'timeZoneFullName': 'America/New_York',\n",
       " 'timeZoneShortName': 'EDT',\n",
       " 'uuid': 'a363c346-ce7b-339c-81c6-27676f90caf3',\n",
       " 'messageBoardId': 'finmb_26755274',\n",
       " 'gmtOffSetMilliseconds': -14400000,\n",
       " 'trailingPegRatio': None}"
      ]
     },
     "execution_count": 619,
     "metadata": {},
     "output_type": "execute_result"
    }
   ],
   "source": [
    "msft.info"
   ]
  },
  {
   "cell_type": "code",
   "execution_count": 620,
   "metadata": {},
   "outputs": [
    {
     "data": {
      "text/html": [
       "<div>\n",
       "<style scoped>\n",
       "    .dataframe tbody tr th:only-of-type {\n",
       "        vertical-align: middle;\n",
       "    }\n",
       "\n",
       "    .dataframe tbody tr th {\n",
       "        vertical-align: top;\n",
       "    }\n",
       "\n",
       "    .dataframe thead th {\n",
       "        text-align: right;\n",
       "    }\n",
       "</style>\n",
       "<table border=\"1\" class=\"dataframe\">\n",
       "  <thead>\n",
       "    <tr style=\"text-align: right;\">\n",
       "      <th></th>\n",
       "      <th>Open</th>\n",
       "      <th>High</th>\n",
       "      <th>Low</th>\n",
       "      <th>Close</th>\n",
       "      <th>Volume</th>\n",
       "      <th>Dividends</th>\n",
       "      <th>Stock Splits</th>\n",
       "      <th>Capital Gains</th>\n",
       "    </tr>\n",
       "    <tr>\n",
       "      <th>Date</th>\n",
       "      <th></th>\n",
       "      <th></th>\n",
       "      <th></th>\n",
       "      <th></th>\n",
       "      <th></th>\n",
       "      <th></th>\n",
       "      <th></th>\n",
       "      <th></th>\n",
       "    </tr>\n",
       "  </thead>\n",
       "  <tbody>\n",
       "    <tr>\n",
       "      <th>2019-07-12 00:00:00-04:00</th>\n",
       "      <td>85.667754</td>\n",
       "      <td>85.996481</td>\n",
       "      <td>84.731383</td>\n",
       "      <td>85.488449</td>\n",
       "      <td>3681600</td>\n",
       "      <td>0.0</td>\n",
       "      <td>0.0</td>\n",
       "      <td>0.0</td>\n",
       "    </tr>\n",
       "    <tr>\n",
       "      <th>2019-07-15 00:00:00-04:00</th>\n",
       "      <td>85.737470</td>\n",
       "      <td>86.175773</td>\n",
       "      <td>85.139790</td>\n",
       "      <td>85.847046</td>\n",
       "      <td>2240600</td>\n",
       "      <td>0.0</td>\n",
       "      <td>0.0</td>\n",
       "      <td>0.0</td>\n",
       "    </tr>\n",
       "    <tr>\n",
       "      <th>2019-07-16 00:00:00-04:00</th>\n",
       "      <td>85.966588</td>\n",
       "      <td>85.966588</td>\n",
       "      <td>84.850912</td>\n",
       "      <td>85.129829</td>\n",
       "      <td>2369700</td>\n",
       "      <td>0.0</td>\n",
       "      <td>0.0</td>\n",
       "      <td>0.0</td>\n",
       "    </tr>\n",
       "    <tr>\n",
       "      <th>2019-07-17 00:00:00-04:00</th>\n",
       "      <td>85.080023</td>\n",
       "      <td>85.737470</td>\n",
       "      <td>84.332921</td>\n",
       "      <td>85.209518</td>\n",
       "      <td>3434700</td>\n",
       "      <td>0.0</td>\n",
       "      <td>0.0</td>\n",
       "      <td>0.0</td>\n",
       "    </tr>\n",
       "    <tr>\n",
       "      <th>2019-07-18 00:00:00-04:00</th>\n",
       "      <td>84.990367</td>\n",
       "      <td>86.584184</td>\n",
       "      <td>84.970448</td>\n",
       "      <td>86.454689</td>\n",
       "      <td>3147700</td>\n",
       "      <td>0.0</td>\n",
       "      <td>0.0</td>\n",
       "      <td>0.0</td>\n",
       "    </tr>\n",
       "    <tr>\n",
       "      <th>...</th>\n",
       "      <td>...</td>\n",
       "      <td>...</td>\n",
       "      <td>...</td>\n",
       "      <td>...</td>\n",
       "      <td>...</td>\n",
       "      <td>...</td>\n",
       "      <td>...</td>\n",
       "      <td>...</td>\n",
       "    </tr>\n",
       "    <tr>\n",
       "      <th>2024-07-05 00:00:00-04:00</th>\n",
       "      <td>90.860001</td>\n",
       "      <td>91.919998</td>\n",
       "      <td>90.279999</td>\n",
       "      <td>91.709999</td>\n",
       "      <td>5557900</td>\n",
       "      <td>0.0</td>\n",
       "      <td>0.0</td>\n",
       "      <td>0.0</td>\n",
       "    </tr>\n",
       "    <tr>\n",
       "      <th>2024-07-08 00:00:00-04:00</th>\n",
       "      <td>92.860001</td>\n",
       "      <td>93.680000</td>\n",
       "      <td>92.440002</td>\n",
       "      <td>93.230003</td>\n",
       "      <td>9007600</td>\n",
       "      <td>0.0</td>\n",
       "      <td>0.0</td>\n",
       "      <td>0.0</td>\n",
       "    </tr>\n",
       "    <tr>\n",
       "      <th>2024-07-09 00:00:00-04:00</th>\n",
       "      <td>93.389999</td>\n",
       "      <td>94.540001</td>\n",
       "      <td>92.849998</td>\n",
       "      <td>94.370003</td>\n",
       "      <td>7651400</td>\n",
       "      <td>0.0</td>\n",
       "      <td>0.0</td>\n",
       "      <td>0.0</td>\n",
       "    </tr>\n",
       "    <tr>\n",
       "      <th>2024-07-10 00:00:00-04:00</th>\n",
       "      <td>94.769997</td>\n",
       "      <td>95.480003</td>\n",
       "      <td>94.269997</td>\n",
       "      <td>95.480003</td>\n",
       "      <td>5002800</td>\n",
       "      <td>0.0</td>\n",
       "      <td>0.0</td>\n",
       "      <td>0.0</td>\n",
       "    </tr>\n",
       "    <tr>\n",
       "      <th>2024-07-11 00:00:00-04:00</th>\n",
       "      <td>96.830002</td>\n",
       "      <td>98.779999</td>\n",
       "      <td>96.650002</td>\n",
       "      <td>97.959999</td>\n",
       "      <td>14609800</td>\n",
       "      <td>0.0</td>\n",
       "      <td>0.0</td>\n",
       "      <td>0.0</td>\n",
       "    </tr>\n",
       "  </tbody>\n",
       "</table>\n",
       "<p>1258 rows × 8 columns</p>\n",
       "</div>"
      ],
      "text/plain": [
       "                                Open       High        Low      Close  \\\n",
       "Date                                                                    \n",
       "2019-07-12 00:00:00-04:00  85.667754  85.996481  84.731383  85.488449   \n",
       "2019-07-15 00:00:00-04:00  85.737470  86.175773  85.139790  85.847046   \n",
       "2019-07-16 00:00:00-04:00  85.966588  85.966588  84.850912  85.129829   \n",
       "2019-07-17 00:00:00-04:00  85.080023  85.737470  84.332921  85.209518   \n",
       "2019-07-18 00:00:00-04:00  84.990367  86.584184  84.970448  86.454689   \n",
       "...                              ...        ...        ...        ...   \n",
       "2024-07-05 00:00:00-04:00  90.860001  91.919998  90.279999  91.709999   \n",
       "2024-07-08 00:00:00-04:00  92.860001  93.680000  92.440002  93.230003   \n",
       "2024-07-09 00:00:00-04:00  93.389999  94.540001  92.849998  94.370003   \n",
       "2024-07-10 00:00:00-04:00  94.769997  95.480003  94.269997  95.480003   \n",
       "2024-07-11 00:00:00-04:00  96.830002  98.779999  96.650002  97.959999   \n",
       "\n",
       "                             Volume  Dividends  Stock Splits  Capital Gains  \n",
       "Date                                                                         \n",
       "2019-07-12 00:00:00-04:00   3681600        0.0           0.0            0.0  \n",
       "2019-07-15 00:00:00-04:00   2240600        0.0           0.0            0.0  \n",
       "2019-07-16 00:00:00-04:00   2369700        0.0           0.0            0.0  \n",
       "2019-07-17 00:00:00-04:00   3434700        0.0           0.0            0.0  \n",
       "2019-07-18 00:00:00-04:00   3147700        0.0           0.0            0.0  \n",
       "...                             ...        ...           ...            ...  \n",
       "2024-07-05 00:00:00-04:00   5557900        0.0           0.0            0.0  \n",
       "2024-07-08 00:00:00-04:00   9007600        0.0           0.0            0.0  \n",
       "2024-07-09 00:00:00-04:00   7651400        0.0           0.0            0.0  \n",
       "2024-07-10 00:00:00-04:00   5002800        0.0           0.0            0.0  \n",
       "2024-07-11 00:00:00-04:00  14609800        0.0           0.0            0.0  \n",
       "\n",
       "[1258 rows x 8 columns]"
      ]
     },
     "execution_count": 620,
     "metadata": {},
     "output_type": "execute_result"
    }
   ],
   "source": [
    "df = msft.history(period=\"5y\")\n",
    "df"
   ]
  },
  {
   "cell_type": "code",
   "execution_count": 621,
   "metadata": {},
   "outputs": [
    {
     "data": {
      "text/html": [
       "<div>\n",
       "<style scoped>\n",
       "    .dataframe tbody tr th:only-of-type {\n",
       "        vertical-align: middle;\n",
       "    }\n",
       "\n",
       "    .dataframe tbody tr th {\n",
       "        vertical-align: top;\n",
       "    }\n",
       "\n",
       "    .dataframe thead th {\n",
       "        text-align: right;\n",
       "    }\n",
       "</style>\n",
       "<table border=\"1\" class=\"dataframe\">\n",
       "  <thead>\n",
       "    <tr style=\"text-align: right;\">\n",
       "      <th></th>\n",
       "      <th>Close</th>\n",
       "    </tr>\n",
       "    <tr>\n",
       "      <th>Date</th>\n",
       "      <th></th>\n",
       "    </tr>\n",
       "  </thead>\n",
       "  <tbody>\n",
       "    <tr>\n",
       "      <th>2019-07-12 00:00:00-04:00</th>\n",
       "      <td>85.488449</td>\n",
       "    </tr>\n",
       "    <tr>\n",
       "      <th>2019-07-15 00:00:00-04:00</th>\n",
       "      <td>85.847046</td>\n",
       "    </tr>\n",
       "    <tr>\n",
       "      <th>2019-07-16 00:00:00-04:00</th>\n",
       "      <td>85.129829</td>\n",
       "    </tr>\n",
       "    <tr>\n",
       "      <th>2019-07-17 00:00:00-04:00</th>\n",
       "      <td>85.209518</td>\n",
       "    </tr>\n",
       "    <tr>\n",
       "      <th>2019-07-18 00:00:00-04:00</th>\n",
       "      <td>86.454689</td>\n",
       "    </tr>\n",
       "    <tr>\n",
       "      <th>...</th>\n",
       "      <td>...</td>\n",
       "    </tr>\n",
       "    <tr>\n",
       "      <th>2024-07-05 00:00:00-04:00</th>\n",
       "      <td>91.709999</td>\n",
       "    </tr>\n",
       "    <tr>\n",
       "      <th>2024-07-08 00:00:00-04:00</th>\n",
       "      <td>93.230003</td>\n",
       "    </tr>\n",
       "    <tr>\n",
       "      <th>2024-07-09 00:00:00-04:00</th>\n",
       "      <td>94.370003</td>\n",
       "    </tr>\n",
       "    <tr>\n",
       "      <th>2024-07-10 00:00:00-04:00</th>\n",
       "      <td>95.480003</td>\n",
       "    </tr>\n",
       "    <tr>\n",
       "      <th>2024-07-11 00:00:00-04:00</th>\n",
       "      <td>97.959999</td>\n",
       "    </tr>\n",
       "  </tbody>\n",
       "</table>\n",
       "<p>1258 rows × 1 columns</p>\n",
       "</div>"
      ],
      "text/plain": [
       "                               Close\n",
       "Date                                \n",
       "2019-07-12 00:00:00-04:00  85.488449\n",
       "2019-07-15 00:00:00-04:00  85.847046\n",
       "2019-07-16 00:00:00-04:00  85.129829\n",
       "2019-07-17 00:00:00-04:00  85.209518\n",
       "2019-07-18 00:00:00-04:00  86.454689\n",
       "...                              ...\n",
       "2024-07-05 00:00:00-04:00  91.709999\n",
       "2024-07-08 00:00:00-04:00  93.230003\n",
       "2024-07-09 00:00:00-04:00  94.370003\n",
       "2024-07-10 00:00:00-04:00  95.480003\n",
       "2024-07-11 00:00:00-04:00  97.959999\n",
       "\n",
       "[1258 rows x 1 columns]"
      ]
     },
     "execution_count": 621,
     "metadata": {},
     "output_type": "execute_result"
    }
   ],
   "source": [
    "df = df[['Close']]\n",
    "df"
   ]
  },
  {
   "cell_type": "code",
   "execution_count": 622,
   "metadata": {},
   "outputs": [
    {
     "data": {
      "text/plain": [
       "[<matplotlib.lines.Line2D at 0x30c3ffc90>]"
      ]
     },
     "execution_count": 622,
     "metadata": {},
     "output_type": "execute_result"
    },
    {
     "data": {
      "image/png": "[encoded data removed]",
      "text/plain": [
       "<Figure size 640x480 with 1 Axes>"
      ]
     },
     "metadata": {},
     "output_type": "display_data"
    }
   ],
   "source": [
    "plt.plot(df.index, df['Close'])"
   ]
  },
  {
   "cell_type": "code",
   "execution_count": 623,
   "metadata": {},
   "outputs": [
    {
     "data": {
      "text/html": [
       "<div>\n",
       "<style scoped>\n",
       "    .dataframe tbody tr th:only-of-type {\n",
       "        vertical-align: middle;\n",
       "    }\n",
       "\n",
       "    .dataframe tbody tr th {\n",
       "        vertical-align: top;\n",
       "    }\n",
       "\n",
       "    .dataframe thead th {\n",
       "        text-align: right;\n",
       "    }\n",
       "</style>\n",
       "<table border=\"1\" class=\"dataframe\">\n",
       "  <thead>\n",
       "    <tr style=\"text-align: right;\">\n",
       "      <th></th>\n",
       "      <th>Close</th>\n",
       "      <th>Close(t-1)</th>\n",
       "      <th>Close(t-2)</th>\n",
       "      <th>Close(t-3)</th>\n",
       "      <th>Close(t-4)</th>\n",
       "      <th>Close(t-5)</th>\n",
       "      <th>Close(t-6)</th>\n",
       "      <th>Close(t-7)</th>\n",
       "    </tr>\n",
       "    <tr>\n",
       "      <th>Date</th>\n",
       "      <th></th>\n",
       "      <th></th>\n",
       "      <th></th>\n",
       "      <th></th>\n",
       "      <th></th>\n",
       "      <th></th>\n",
       "      <th></th>\n",
       "      <th></th>\n",
       "    </tr>\n",
       "  </thead>\n",
       "  <tbody>\n",
       "    <tr>\n",
       "      <th>2019-07-23 00:00:00-04:00</th>\n",
       "      <td>84.980415</td>\n",
       "      <td>85.568138</td>\n",
       "      <td>85.279251</td>\n",
       "      <td>86.454689</td>\n",
       "      <td>85.209518</td>\n",
       "      <td>85.129829</td>\n",
       "      <td>85.847046</td>\n",
       "      <td>85.488449</td>\n",
       "    </tr>\n",
       "    <tr>\n",
       "      <th>2019-07-24 00:00:00-04:00</th>\n",
       "      <td>85.747429</td>\n",
       "      <td>84.980415</td>\n",
       "      <td>85.568138</td>\n",
       "      <td>85.279251</td>\n",
       "      <td>86.454689</td>\n",
       "      <td>85.209518</td>\n",
       "      <td>85.129829</td>\n",
       "      <td>85.847046</td>\n",
       "    </tr>\n",
       "    <tr>\n",
       "      <th>2019-07-25 00:00:00-04:00</th>\n",
       "      <td>83.804970</td>\n",
       "      <td>85.747429</td>\n",
       "      <td>84.980415</td>\n",
       "      <td>85.568138</td>\n",
       "      <td>85.279251</td>\n",
       "      <td>86.454689</td>\n",
       "      <td>85.209518</td>\n",
       "      <td>85.129829</td>\n",
       "    </tr>\n",
       "    <tr>\n",
       "      <th>2019-07-26 00:00:00-04:00</th>\n",
       "      <td>85.319092</td>\n",
       "      <td>83.804970</td>\n",
       "      <td>85.747429</td>\n",
       "      <td>84.980415</td>\n",
       "      <td>85.568138</td>\n",
       "      <td>85.279251</td>\n",
       "      <td>86.454689</td>\n",
       "      <td>85.209518</td>\n",
       "    </tr>\n",
       "    <tr>\n",
       "      <th>2019-07-29 00:00:00-04:00</th>\n",
       "      <td>85.129829</td>\n",
       "      <td>85.319092</td>\n",
       "      <td>83.804970</td>\n",
       "      <td>85.747429</td>\n",
       "      <td>84.980415</td>\n",
       "      <td>85.568138</td>\n",
       "      <td>85.279251</td>\n",
       "      <td>86.454689</td>\n",
       "    </tr>\n",
       "    <tr>\n",
       "      <th>...</th>\n",
       "      <td>...</td>\n",
       "      <td>...</td>\n",
       "      <td>...</td>\n",
       "      <td>...</td>\n",
       "      <td>...</td>\n",
       "      <td>...</td>\n",
       "      <td>...</td>\n",
       "      <td>...</td>\n",
       "    </tr>\n",
       "    <tr>\n",
       "      <th>2024-07-05 00:00:00-04:00</th>\n",
       "      <td>91.709999</td>\n",
       "      <td>90.870003</td>\n",
       "      <td>91.360001</td>\n",
       "      <td>93.040001</td>\n",
       "      <td>92.709999</td>\n",
       "      <td>92.860001</td>\n",
       "      <td>92.190002</td>\n",
       "      <td>93.080002</td>\n",
       "    </tr>\n",
       "    <tr>\n",
       "      <th>2024-07-08 00:00:00-04:00</th>\n",
       "      <td>93.230003</td>\n",
       "      <td>91.709999</td>\n",
       "      <td>90.870003</td>\n",
       "      <td>91.360001</td>\n",
       "      <td>93.040001</td>\n",
       "      <td>92.709999</td>\n",
       "      <td>92.860001</td>\n",
       "      <td>92.190002</td>\n",
       "    </tr>\n",
       "    <tr>\n",
       "      <th>2024-07-09 00:00:00-04:00</th>\n",
       "      <td>94.370003</td>\n",
       "      <td>93.230003</td>\n",
       "      <td>91.709999</td>\n",
       "      <td>90.870003</td>\n",
       "      <td>91.360001</td>\n",
       "      <td>93.040001</td>\n",
       "      <td>92.709999</td>\n",
       "      <td>92.860001</td>\n",
       "    </tr>\n",
       "    <tr>\n",
       "      <th>2024-07-10 00:00:00-04:00</th>\n",
       "      <td>95.480003</td>\n",
       "      <td>94.370003</td>\n",
       "      <td>93.230003</td>\n",
       "      <td>91.709999</td>\n",
       "      <td>90.870003</td>\n",
       "      <td>91.360001</td>\n",
       "      <td>93.040001</td>\n",
       "      <td>92.709999</td>\n",
       "    </tr>\n",
       "    <tr>\n",
       "      <th>2024-07-11 00:00:00-04:00</th>\n",
       "      <td>97.959999</td>\n",
       "      <td>95.480003</td>\n",
       "      <td>94.370003</td>\n",
       "      <td>93.230003</td>\n",
       "      <td>91.709999</td>\n",
       "      <td>90.870003</td>\n",
       "      <td>91.360001</td>\n",
       "      <td>93.040001</td>\n",
       "    </tr>\n",
       "  </tbody>\n",
       "</table>\n",
       "<p>1251 rows × 8 columns</p>\n",
       "</div>"
      ],
      "text/plain": [
       "                               Close  Close(t-1)  Close(t-2)  Close(t-3)  \\\n",
       "Date                                                                       \n",
       "2019-07-23 00:00:00-04:00  84.980415   85.568138   85.279251   86.454689   \n",
       "2019-07-24 00:00:00-04:00  85.747429   84.980415   85.568138   85.279251   \n",
       "2019-07-25 00:00:00-04:00  83.804970   85.747429   84.980415   85.568138   \n",
       "2019-07-26 00:00:00-04:00  85.319092   83.804970   85.747429   84.980415   \n",
       "2019-07-29 00:00:00-04:00  85.129829   85.319092   83.804970   85.747429   \n",
       "...                              ...         ...         ...         ...   \n",
       "2024-07-05 00:00:00-04:00  91.709999   90.870003   91.360001   93.040001   \n",
       "2024-07-08 00:00:00-04:00  93.230003   91.709999   90.870003   91.360001   \n",
       "2024-07-09 00:00:00-04:00  94.370003   93.230003   91.709999   90.870003   \n",
       "2024-07-10 00:00:00-04:00  95.480003   94.370003   93.230003   91.709999   \n",
       "2024-07-11 00:00:00-04:00  97.959999   95.480003   94.370003   93.230003   \n",
       "\n",
       "                           Close(t-4)  Close(t-5)  Close(t-6)  Close(t-7)  \n",
       "Date                                                                       \n",
       "2019-07-23 00:00:00-04:00   85.209518   85.129829   85.847046   85.488449  \n",
       "2019-07-24 00:00:00-04:00   86.454689   85.209518   85.129829   85.847046  \n",
       "2019-07-25 00:00:00-04:00   85.279251   86.454689   85.209518   85.129829  \n",
       "2019-07-26 00:00:00-04:00   85.568138   85.279251   86.454689   85.209518  \n",
       "2019-07-29 00:00:00-04:00   84.980415   85.568138   85.279251   86.454689  \n",
       "...                               ...         ...         ...         ...  \n",
       "2024-07-05 00:00:00-04:00   92.709999   92.860001   92.190002   93.080002  \n",
       "2024-07-08 00:00:00-04:00   93.040001   92.709999   92.860001   92.190002  \n",
       "2024-07-09 00:00:00-04:00   91.360001   93.040001   92.709999   92.860001  \n",
       "2024-07-10 00:00:00-04:00   90.870003   91.360001   93.040001   92.709999  \n",
       "2024-07-11 00:00:00-04:00   91.709999   90.870003   91.360001   93.040001  \n",
       "\n",
       "[1251 rows x 8 columns]"
      ]
     },
     "execution_count": 623,
     "metadata": {},
     "output_type": "execute_result"
    }
   ],
   "source": [
    "from copy import deepcopy as dc\n",
    "\n",
    "def prepare_dataframe_for_lstm(df, n_steps):\n",
    "    df = dc(df)\n",
    "\n",
    "\n",
    "    for i in range(1, n_steps+1):\n",
    "        df[f'Close(t-{i})'] = df['Close'].shift(i)\n",
    "\n",
    "    df.dropna(inplace=True)\n",
    "\n",
    "    return df\n",
    "\n",
    "lookback = 7\n",
    "shifted_df = prepare_dataframe_for_lstm(df, lookback)\n",
    "shifted_df"
   ]
  },
  {
   "cell_type": "code",
   "execution_count": 624,
   "metadata": {},
   "outputs": [
    {
     "data": {
      "text/plain": [
       "array([[84.98041534, 85.56813812, 85.2792511 , ..., 85.12982941,\n",
       "        85.8470459 , 85.4884491 ],\n",
       "       [85.74742889, 84.98041534, 85.56813812, ..., 85.20951843,\n",
       "        85.12982941, 85.8470459 ],\n",
       "       [83.80496979, 85.74742889, 84.98041534, ..., 86.45468903,\n",
       "        85.20951843, 85.12982941],\n",
       "       ...,\n",
       "       [94.37000275, 93.23000336, 91.70999908, ..., 93.04000092,\n",
       "        92.70999908, 92.86000061],\n",
       "       [95.48000336, 94.37000275, 93.23000336, ..., 91.36000061,\n",
       "        93.04000092, 92.70999908],\n",
       "       [97.95999908, 95.48000336, 94.37000275, ..., 90.87000275,\n",
       "        91.36000061, 93.04000092]])"
      ]
     },
     "execution_count": 624,
     "metadata": {},
     "output_type": "execute_result"
    }
   ],
   "source": [
    "shifted_df_np = shifted_df.to_numpy()\n",
    "shifted_df_np"
   ]
  },
  {
   "cell_type": "code",
   "execution_count": 625,
   "metadata": {},
   "outputs": [
    {
     "data": {
      "text/plain": [
       "array([[-0.59879898, -0.58820669, -0.59341318, ..., -0.59610615,\n",
       "        -0.58318004, -0.58964289],\n",
       "       [-0.5849754 , -0.59879898, -0.58820669, ..., -0.59466995,\n",
       "        -0.59610615, -0.58318004],\n",
       "       [-0.61998357, -0.5849754 , -0.59879898, ..., -0.57222873,\n",
       "        -0.59466995, -0.59610615],\n",
       "       ...,\n",
       "       [-0.42957419, -0.45011994, -0.47751437, ..., -0.45354428,\n",
       "        -0.45949177, -0.45678835],\n",
       "       [-0.40956909, -0.42957419, -0.45011994, ..., -0.48382226,\n",
       "        -0.45354428, -0.45949177],\n",
       "       [-0.36487311, -0.40956909, -0.42957419, ..., -0.49265329,\n",
       "        -0.48382226, -0.45354428]])"
      ]
     },
     "execution_count": 625,
     "metadata": {},
     "output_type": "execute_result"
    }
   ],
   "source": [
    "from sklearn.preprocessing import MinMaxScaler\n",
    "\n",
    "scaler = MinMaxScaler(feature_range=(-1, 1))\n",
    "shifted_df_np = scaler.fit_transform(shifted_df_np)\n",
    "\n",
    "shifted_df_np"
   ]
  },
  {
   "cell_type": "code",
   "execution_count": 626,
   "metadata": {},
   "outputs": [
    {
     "name": "stdout",
     "output_type": "stream",
     "text": [
      "[[-0.58820669 -0.59341318 -0.57222873 ... -0.59610615 -0.58318004\n",
      "  -0.58964289]\n",
      " [-0.59879898 -0.58820669 -0.59341318 ... -0.59466995 -0.59610615\n",
      "  -0.58318004]\n",
      " [-0.5849754  -0.59879898 -0.58820669 ... -0.57222873 -0.59466995\n",
      "  -0.59610615]\n",
      " ...\n",
      " [-0.45011994 -0.47751437 -0.49265329 ... -0.45354428 -0.45949177\n",
      "  -0.45678835]\n",
      " [-0.42957419 -0.45011994 -0.47751437 ... -0.48382226 -0.45354428\n",
      "  -0.45949177]\n",
      " [-0.40956909 -0.42957419 -0.45011994 ... -0.49265329 -0.48382226\n",
      "  -0.45354428]]\n"
     ]
    }
   ],
   "source": [
    "X = shifted_df_np[:, 1:]\n",
    "y = shifted_df_np[:, 0]\n",
    "\n",
    "X.shape, y.shape\n",
    "print(X)"
   ]
  },
  {
   "cell_type": "code",
   "execution_count": 627,
   "metadata": {},
   "outputs": [
    {
     "data": {
      "text/plain": [
       "1188"
      ]
     },
     "execution_count": 627,
     "metadata": {},
     "output_type": "execute_result"
    }
   ],
   "source": [
    "X = dc(np.flip(X, axis=1))\n",
    "X\n",
    "split_index = int(len(X) * .95)\n",
    "split_index"
   ]
  },
  {
   "cell_type": "code",
   "execution_count": 628,
   "metadata": {},
   "outputs": [
    {
     "data": {
      "text/plain": [
       "(torch.Size([1188, 7, 1]),\n",
       " torch.Size([63, 7, 1]),\n",
       " torch.Size([1188, 1]),\n",
       " torch.Size([63, 1]))"
      ]
     },
     "execution_count": 628,
     "metadata": {},
     "output_type": "execute_result"
    }
   ],
   "source": [
    "X_train = X[:split_index]\n",
    "X_test = X[split_index:]\n",
    "\n",
    "y_train = y[:split_index]\n",
    "y_test = y[split_index:]\n",
    "\n",
    "X_train = X_train.reshape((-1, lookback, 1))\n",
    "X_test = X_test.reshape((-1, lookback, 1))\n",
    "\n",
    "y_train = y_train.reshape((-1, 1))\n",
    "y_test = y_test.reshape((-1, 1))\n",
    "\n",
    "X_train.shape, X_test.shape, y_train.shape, y_test.shape\n",
    "\n",
    "X_train = torch.tensor(X_train).float()\n",
    "y_train = torch.tensor(y_train).float()\n",
    "X_test = torch.tensor(X_test).float()\n",
    "y_test = torch.tensor(y_test).float()\n",
    "\n",
    "X_train.shape, X_test.shape, y_train.shape, y_test.shape"
   ]
  },
  {
   "cell_type": "code",
   "execution_count": 629,
   "metadata": {},
   "outputs": [
    {
     "data": {
      "text/plain": [
       "<__main__.TimeSeriesDataset at 0x30c58ecd0>"
      ]
     },
     "execution_count": 629,
     "metadata": {},
     "output_type": "execute_result"
    }
   ],
   "source": [
    "from torch.utils.data import Dataset\n",
    "\n",
    "class TimeSeriesDataset(Dataset):\n",
    "    def __init__(self, X, y):\n",
    "        self.X = X\n",
    "        self.y = y\n",
    "\n",
    "    def __len__(self):\n",
    "        return len(self.X)\n",
    "\n",
    "    def __getitem__(self, i):\n",
    "        return self.X[i], self.y[i]\n",
    "\n",
    "train_dataset = TimeSeriesDataset(X_train, y_train)\n",
    "test_dataset = TimeSeriesDataset(X_test, y_test)\n",
    "train_dataset"
   ]
  },
  {
   "cell_type": "code",
   "execution_count": 630,
   "metadata": {},
   "outputs": [
    {
     "name": "stdout",
     "output_type": "stream",
     "text": [
      "torch.Size([16, 7, 1]) torch.Size([16, 1])\n"
     ]
    }
   ],
   "source": [
    "from torch.utils.data import DataLoader\n",
    "\n",
    "batch_size = 16\n",
    "\n",
    "train_loader = DataLoader(train_dataset, batch_size=batch_size, shuffle=True)\n",
    "test_loader = DataLoader(test_dataset, batch_size=batch_size, shuffle=False)\n",
    "\n",
    "\n",
    "for _, batch in enumerate(train_loader):\n",
    "    x_batch, y_batch = batch[0].to(device), batch[1].to(device)\n",
    "    print(x_batch.shape, y_batch.shape)\n",
    "    break"
   ]
  },
  {
   "cell_type": "code",
   "execution_count": 631,
   "metadata": {},
   "outputs": [
    {
     "data": {
      "text/plain": [
       "LSTM(\n",
       "  (lstm): LSTM(1, 16, num_layers=2, batch_first=True)\n",
       "  (fc): Linear(in_features=16, out_features=1, bias=True)\n",
       ")"
      ]
     },
     "execution_count": 631,
     "metadata": {},
     "output_type": "execute_result"
    }
   ],
   "source": [
    "class LSTM(nn.Module):\n",
    "    def __init__(self, input_size, hidden_size, num_stacked_layers):\n",
    "        super().__init__()\n",
    "        self.hidden_size = hidden_size\n",
    "        self.num_stacked_layers = num_stacked_layers\n",
    "\n",
    "        self.lstm = nn.LSTM(input_size, hidden_size, num_stacked_layers,\n",
    "                            batch_first=True)\n",
    "\n",
    "        self.fc = nn.Linear(hidden_size, 1)\n",
    "\n",
    "    def forward(self, x):\n",
    "        batch_size = x.size(0)\n",
    "        h0 = torch.zeros(self.num_stacked_layers, batch_size, self.hidden_size).to(device)\n",
    "        c0 = torch.zeros(self.num_stacked_layers, batch_size, self.hidden_size).to(device)\n",
    "\n",
    "        out, _ = self.lstm(x, (h0, c0))\n",
    "        out = self.fc(out[:, -1, :])\n",
    "        return out\n",
    "\n",
    "model = LSTM(1, 16, 2)\n",
    "model.to(device)\n",
    "model"
   ]
  },
  {
   "cell_type": "code",
   "execution_count": 632,
   "metadata": {},
   "outputs": [],
   "source": [
    "def train_one_epoch():\n",
    "    model.train(True)\n",
    "    print(f'Epoch: {epoch + 1}')\n",
    "    running_loss = 0.0\n",
    "\n",
    "    for batch_index, batch in enumerate(train_loader):\n",
    "        x_batch, y_batch = batch[0].to(device), batch[1].to(device)\n",
    "\n",
    "        output = model(x_batch)\n",
    "        loss = loss_function(output, y_batch)\n",
    "        running_loss += loss.item()\n",
    "\n",
    "        optimizer.zero_grad()\n",
    "        loss.backward()\n",
    "        optimizer.step()\n",
    "\n",
    "        if batch_index % 100 == 99:  # print every 100 batches\n",
    "            avg_loss_across_batches = running_loss / 100\n",
    "            print('Batch {0}, Loss: {1:.3f}'.format(batch_index+1,\n",
    "                                                    avg_loss_across_batches))\n",
    "            running_loss = 0.0\n",
    "    print() \n",
    "def validate_one_epoch():\n",
    "    model.train(False)\n",
    "    running_loss = 0.0\n",
    "\n",
    "    for batch_index, batch in enumerate(test_loader):\n",
    "        x_batch, y_batch = batch[0].to(device), batch[1].to(device)\n",
    "\n",
    "        with torch.no_grad():\n",
    "            output = model(x_batch)\n",
    "            loss = loss_function(output, y_batch)\n",
    "            running_loss += loss.item()\n",
    "\n",
    "    avg_loss_across_batches = running_loss / len(test_loader)\n",
    "\n",
    "    print('Val Loss: {0:.3f}'.format(avg_loss_across_batches))\n",
    "    print('***************************************************')\n",
    "    print()"
   ]
  },
  {
   "cell_type": "code",
   "execution_count": 633,
   "metadata": {},
   "outputs": [
    {
     "name": "stdout",
     "output_type": "stream",
     "text": [
      "Epoch: 1\n"
     ]
    },
    {
     "name": "stdout",
     "output_type": "stream",
     "text": [
      "\n",
      "Val Loss: 0.004\n",
      "***************************************************\n",
      "\n",
      "Epoch: 2\n",
      "\n",
      "Val Loss: 0.004\n",
      "***************************************************\n",
      "\n",
      "Epoch: 3\n",
      "\n",
      "Val Loss: 0.003\n",
      "***************************************************\n",
      "\n",
      "Epoch: 4\n",
      "\n",
      "Val Loss: 0.002\n",
      "***************************************************\n",
      "\n",
      "Epoch: 5\n",
      "\n",
      "Val Loss: 0.002\n",
      "***************************************************\n",
      "\n",
      "Epoch: 6\n",
      "\n",
      "Val Loss: 0.002\n",
      "***************************************************\n",
      "\n",
      "Epoch: 7\n",
      "\n",
      "Val Loss: 0.002\n",
      "***************************************************\n",
      "\n",
      "Epoch: 8\n",
      "\n",
      "Val Loss: 0.002\n",
      "***************************************************\n",
      "\n",
      "Epoch: 9\n",
      "\n",
      "Val Loss: 0.002\n",
      "***************************************************\n",
      "\n",
      "Epoch: 10\n",
      "\n",
      "Val Loss: 0.002\n",
      "***************************************************\n",
      "\n",
      "Epoch: 11\n",
      "\n",
      "Val Loss: 0.002\n",
      "***************************************************\n",
      "\n",
      "Epoch: 12\n",
      "\n",
      "Val Loss: 0.002\n",
      "***************************************************\n",
      "\n",
      "Epoch: 13\n",
      "\n",
      "Val Loss: 0.001\n",
      "***************************************************\n",
      "\n",
      "Epoch: 14\n",
      "\n",
      "Val Loss: 0.001\n",
      "***************************************************\n",
      "\n",
      "Epoch: 15\n",
      "\n",
      "Val Loss: 0.001\n",
      "***************************************************\n",
      "\n",
      "Epoch: 16\n",
      "\n",
      "Val Loss: 0.001\n",
      "***************************************************\n",
      "\n",
      "Epoch: 17\n",
      "\n",
      "Val Loss: 0.002\n",
      "***************************************************\n",
      "\n",
      "Epoch: 18\n",
      "\n",
      "Val Loss: 0.001\n",
      "***************************************************\n",
      "\n",
      "Epoch: 19\n",
      "\n",
      "Val Loss: 0.001\n",
      "***************************************************\n",
      "\n",
      "Epoch: 20\n",
      "\n",
      "Val Loss: 0.001\n",
      "***************************************************\n",
      "\n",
      "Epoch: 21\n",
      "\n",
      "Val Loss: 0.001\n",
      "***************************************************\n",
      "\n",
      "Epoch: 22\n",
      "\n",
      "Val Loss: 0.001\n",
      "***************************************************\n",
      "\n",
      "Epoch: 23\n",
      "\n",
      "Val Loss: 0.001\n",
      "***************************************************\n",
      "\n",
      "Epoch: 24\n",
      "\n",
      "Val Loss: 0.002\n",
      "***************************************************\n",
      "\n",
      "Epoch: 25\n",
      "\n",
      "Val Loss: 0.001\n",
      "***************************************************\n",
      "\n",
      "Epoch: 26\n",
      "\n",
      "Val Loss: 0.001\n",
      "***************************************************\n",
      "\n",
      "Epoch: 27\n",
      "\n",
      "Val Loss: 0.001\n",
      "***************************************************\n",
      "\n",
      "Epoch: 28\n",
      "\n",
      "Val Loss: 0.001\n",
      "***************************************************\n",
      "\n",
      "Epoch: 29\n",
      "\n",
      "Val Loss: 0.001\n",
      "***************************************************\n",
      "\n",
      "Epoch: 30\n",
      "\n",
      "Val Loss: 0.001\n",
      "***************************************************\n",
      "\n"
     ]
    }
   ],
   "source": [
    "learning_rate = 0.002\n",
    "num_epochs = 30\n",
    "loss_function = nn.MSELoss()\n",
    "optimizer = torch.optim.Adam(model.parameters(), lr=learning_rate)\n",
    "\n",
    "for epoch in range(num_epochs):\n",
    "    train_one_epoch()\n",
    "    validate_one_epoch()"
   ]
  },
  {
   "cell_type": "code",
   "execution_count": 634,
   "metadata": {},
   "outputs": [
    {
     "data": {
      "image/png": "[encoded data removed]",
      "text/plain": [
       "<Figure size 640x480 with 1 Axes>"
      ]
     },
     "metadata": {},
     "output_type": "display_data"
    }
   ],
   "source": [
    "with torch.no_grad():\n",
    "    predicted = model(X_train.to(device)).to('cpu').numpy()\n",
    "\n",
    "plt.plot(y_train, label='Actual Close')\n",
    "\n",
    "plt.plot(predicted, label='Predicted Close')\n",
    "plt.xlabel('Day')\n",
    "plt.ylabel('Close')\n",
    "plt.legend()\n",
    "plt.show()"
   ]
  },
  {
   "cell_type": "code",
   "execution_count": 635,
   "metadata": {},
   "outputs": [
    {
     "name": "stdout",
     "output_type": "stream",
     "text": [
      "torch.Size([1188, 1])\n",
      "(1188, 1)\n",
      "(1188,)\n"
     ]
    }
   ],
   "source": [
    "print(y_train.shape)\n",
    "print(predicted.shape)\n",
    "train_predictions = predicted.flatten()\n",
    "print(train_predictions.shape)"
   ]
  },
  {
   "cell_type": "code",
   "execution_count": 636,
   "metadata": {},
   "outputs": [
    {
     "data": {
      "text/plain": [
       "array([84.17971777, 83.73806215, 84.31213871, ..., 88.72122054,\n",
       "       89.03074955, 90.12244187])"
      ]
     },
     "execution_count": 636,
     "metadata": {},
     "output_type": "execute_result"
    }
   ],
   "source": [
    "\n",
    "dummies = np.zeros((X_train.shape[0], lookback+1))\n",
    "dummies[:, 0] = train_predictions\n",
    "dummies = scaler.inverse_transform(dummies)\n",
    "\n",
    "train_predictions = dc(dummies[:, 0])\n",
    "train_predictions"
   ]
  },
  {
   "cell_type": "code",
   "execution_count": 637,
   "metadata": {},
   "outputs": [
    {
     "data": {
      "text/plain": [
       "array([84.98041472, 85.74742768, 83.80497045, ..., 90.28746867,\n",
       "       91.52592534, 89.83802125])"
      ]
     },
     "execution_count": 637,
     "metadata": {},
     "output_type": "execute_result"
    }
   ],
   "source": [
    "dummies = np.zeros((X_train.shape[0], lookback+1))\n",
    "dummies[:, 0] = y_train.flatten()\n",
    "dummies = scaler.inverse_transform(dummies)\n",
    "\n",
    "new_y_train = dc(dummies[:, 0])\n",
    "new_y_train"
   ]
  },
  {
   "cell_type": "code",
   "execution_count": 638,
   "metadata": {},
   "outputs": [
    {
     "data": {
      "image/png": "[encoded data removed]",
      "text/plain": [
       "<Figure size 640x480 with 1 Axes>"
      ]
     },
     "metadata": {},
     "output_type": "display_data"
    }
   ],
   "source": [
    "plt.plot(new_y_train, label='Actual Close')\n",
    "plt.plot(train_predictions, label='Predicted Close')\n",
    "plt.xlabel('Day')\n",
    "plt.ylabel('Close')\n",
    "plt.legend()\n",
    "plt.show()\n"
   ]
  },
  {
   "cell_type": "code",
   "execution_count": 639,
   "metadata": {},
   "outputs": [
    {
     "data": {
      "text/plain": [
       "array([88.7917304 , 89.65860806, 87.17665783, 85.13750751, 84.28928916,\n",
       "       83.41864126, 82.2797748 , 81.53853829, 82.21411332, 83.16649246,\n",
       "       82.64131309, 81.03042747, 81.83681945, 83.82922558, 83.35736185,\n",
       "       85.49540456, 86.79596745, 88.335189  , 89.0711505 , 88.99434371,\n",
       "       87.81285715, 87.53014967, 86.83984429, 88.25158257, 89.32188381,\n",
       "       91.01702078, 91.21341157, 89.91009542, 90.66000511, 90.27970332,\n",
       "       90.69649032, 88.30803014, 87.43286128, 87.69172373, 86.34737991,\n",
       "       87.35273073, 87.74963309, 89.74636505, 89.83775337, 92.34409267,\n",
       "       91.61572288, 90.09451904, 90.44172717, 91.03398184, 92.31123547,\n",
       "       92.48280063, 90.59771038, 89.26369003, 88.39395493, 88.48656691,\n",
       "       90.73514672, 92.39387454, 91.91489368, 90.9510104 , 91.43748375,\n",
       "       91.46996558, 91.74144175, 90.30520858, 89.60913541, 90.32459217,\n",
       "       91.83068038, 93.03454356, 94.11713443])"
      ]
     },
     "execution_count": 639,
     "metadata": {},
     "output_type": "execute_result"
    }
   ],
   "source": [
    "test_predictions = model(X_test.to(device)).detach().cpu().numpy().flatten()\n",
    "\n",
    "dummies = np.zeros((X_test.shape[0], lookback+1))\n",
    "dummies[:, 0] = test_predictions\n",
    "dummies = scaler.inverse_transform(dummies)\n",
    "\n",
    "test_predictions = dc(dummies[:, 0])\n",
    "test_predictions"
   ]
  },
  {
   "cell_type": "code",
   "execution_count": 640,
   "metadata": {},
   "outputs": [
    {
     "data": {
      "text/plain": [
       "array([91.16636641, 88.04026797, 86.24250807, 85.50343448, 84.54462281,\n",
       "       83.376084  , 82.72689063, 83.64574451, 84.5845806 , 83.83550929,\n",
       "       82.11765174, 83.38606187, 85.41353772, 84.51466273, 87.22129202,\n",
       "       88.23002613, 89.86798794, 90.4672473 , 90.31742874, 88.99906972,\n",
       "       88.86923832, 88.03028017, 89.76811331, 90.6669916 , 92.49471323,\n",
       "       92.47473929, 91.0664984 , 92.15513651, 91.45600913, 92.05526022,\n",
       "       89.20881008, 88.71942141, 89.019042  , 87.37110232, 88.84925943,\n",
       "       89.019042  , 91.30619883, 91.05650399, 94.00283868, 92.70445194,\n",
       "       91.27623049, 91.8754882 , 92.34490128, 93.70320817, 93.70320817,\n",
       "       91.63578776, 90.47722683, 89.58833302, 89.7780978 , 92.26499893,\n",
       "       93.73999765, 93.08000125, 92.19000284, 92.86000025, 92.70999979,\n",
       "       93.04000047, 91.36000063, 90.87000343, 91.70999839, 93.23000337,\n",
       "       94.37000255, 95.48000362, 97.95999929])"
      ]
     },
     "execution_count": 640,
     "metadata": {},
     "output_type": "execute_result"
    }
   ],
   "source": [
    "dummies = np.zeros((X_test.shape[0], lookback+1))\n",
    "dummies[:, 0] = y_test.flatten()\n",
    "dummies = scaler.inverse_transform(dummies)\n",
    "\n",
    "new_y_test = dc(dummies[:, 0])\n",
    "new_y_test"
   ]
  },
  {
   "cell_type": "code",
   "execution_count": 641,
   "metadata": {},
   "outputs": [
    {
     "data": {
      "image/png": "[encoded data removed]",
      "text/plain": [
       "<Figure size 640x480 with 1 Axes>"
      ]
     },
     "metadata": {},
     "output_type": "display_data"
    }
   ],
   "source": [
    "plt.plot(new_y_test, label='Actual Close')\n",
    "plt.plot(test_predictions, label='Predicted Close')\n",
    "plt.xlabel('Day')\n",
    "plt.ylabel('Close')\n",
    "plt.legend()\n",
    "plt.show()\n"
   ]
  },
  {
   "cell_type": "code",
   "execution_count": 642,
   "metadata": {},
   "outputs": [
    {
     "data": {
      "text/plain": [
       "array([88.7917304 , 89.65860806, 87.17665783, 85.13750751, 84.28928916,\n",
       "       83.41864126, 82.2797748 , 81.53853829, 82.21411332, 83.16649246,\n",
       "       82.64131309, 81.03042747, 81.83681945, 83.82922558, 83.35736185,\n",
       "       85.49540456, 86.79596745, 88.335189  , 89.0711505 , 88.99434371,\n",
       "       87.81285715, 87.53014967, 86.83984429, 88.25158257, 89.32188381,\n",
       "       91.01702078, 91.21341157, 89.91009542, 90.66000511, 90.27970332,\n",
       "       90.69649032, 88.30803014, 87.43286128, 87.69172373, 86.34737991,\n",
       "       87.35273073, 87.74963309, 89.74636505, 89.83775337, 92.34409267,\n",
       "       91.61572288, 90.09451904, 90.44172717, 91.03398184, 92.31123547,\n",
       "       92.48280063, 90.59771038, 89.26369003, 88.39395493, 88.48656691,\n",
       "       90.73514672, 92.39387454, 91.91489368, 90.9510104 , 91.43748375,\n",
       "       91.46996558, 91.74144175, 90.30520858, 89.60913541, 90.32459217,\n",
       "       91.83068038, 93.03454356, 94.11713443])"
      ]
     },
     "execution_count": 642,
     "metadata": {},
     "output_type": "execute_result"
    }
   ],
   "source": [
    "test_predictions"
   ]
  },
  {
   "cell_type": "code",
   "execution_count": 643,
   "metadata": {},
   "outputs": [
    {
     "name": "stdout",
     "output_type": "stream",
     "text": [
      "Test Results:\n",
      "                        Date     Actual  Predicted\n",
      "0  2024-04-11 00:00:00-04:00  91.166366  88.791730\n",
      "1  2024-04-12 00:00:00-04:00  88.040268  89.658608\n",
      "2  2024-04-15 00:00:00-04:00  86.242508  87.176658\n",
      "3  2024-04-16 00:00:00-04:00  85.503434  85.137508\n",
      "4  2024-04-17 00:00:00-04:00  84.544623  84.289289\n",
      "..                       ...        ...        ...\n",
      "58 2024-07-05 00:00:00-04:00  91.709998  89.609135\n",
      "59 2024-07-08 00:00:00-04:00  93.230003  90.324592\n",
      "60 2024-07-09 00:00:00-04:00  94.370003  91.830680\n",
      "61 2024-07-10 00:00:00-04:00  95.480004  93.034544\n",
      "62 2024-07-11 00:00:00-04:00  97.959999  94.117134\n",
      "\n",
      "[63 rows x 3 columns]\n"
     ]
    }
   ],
   "source": [
    "\n",
    "test_dates = df.index[-len(new_y_test):]\n",
    "\n",
    "# Create dataframe with dates, actual and predicted values\n",
    "test_results_df = pd.DataFrame({\n",
    "    'Date': test_dates,\n",
    "    'Actual': new_y_test,\n",
    "    'Predicted': test_predictions\n",
    "})\n",
    "print(\"Test Results:\")\n",
    "print(test_results_df)\n",
    "\n"
   ]
  },
  {
   "cell_type": "code",
   "execution_count": 644,
   "metadata": {},
   "outputs": [
    {
     "name": "stdout",
     "output_type": "stream",
     "text": [
      "DatetimeIndex(['2024-07-11 00:00:00-04:00', '2024-07-12 00:00:00-04:00'], dtype='datetime64[ns, America/New_York]', freq='D')\n"
     ]
    },
    {
     "data": {
      "text/plain": [
       "array([94.11713443, 93.00721273])"
      ]
     },
     "execution_count": 644,
     "metadata": {},
     "output_type": "execute_result"
    }
   ],
   "source": [
    "def predict_future_dates(model, last_known_data, scaler, num_predictions):\n",
    "    model.eval()\n",
    "    predictions = []\n",
    "    data = last_known_data\n",
    "    for _ in range(num_predictions):\n",
    "        input_data = torch.tensor(data.reshape(\n",
    "            1, lookback, 1)).float().to(device)\n",
    "        with torch.no_grad():\n",
    "            pred = model(input_data).cpu().numpy().flatten()\n",
    "        predictions.append(pred[0])\n",
    "        data = np.append(data[1:], pred)\n",
    "    predictions = np.array(predictions).reshape(-1, 1)\n",
    "    dummies = np.zeros((predictions.shape[0], lookback + 1))\n",
    "    dummies[:, 0] = predictions.flatten()\n",
    "    predictions = scaler.inverse_transform(dummies)[:, 0]\n",
    "    return predictions\n",
    "\n",
    "\n",
    "# Predict future dates\n",
    "num_future_predictions = 2\n",
    "last_known_data = X_test[-1].cpu().numpy()\n",
    "future_predictions = predict_future_dates(\n",
    "    model, last_known_data, scaler, num_future_predictions)\n",
    "\n",
    "# Create future dates\n",
    "last_date = test_results_df['Date'].iloc[-1]\n",
    "future_dates = pd.date_range(\n",
    "    start=last_date, periods=num_future_predictions)\n",
    "\n",
    "print(future_dates)\n",
    "future_predictions"
   ]
  },
  {
   "cell_type": "code",
   "execution_count": 645,
   "metadata": {},
   "outputs": [
    {
     "data": {
      "text/html": [
       "<div>\n",
       "<style scoped>\n",
       "    .dataframe tbody tr th:only-of-type {\n",
       "        vertical-align: middle;\n",
       "    }\n",
       "\n",
       "    .dataframe tbody tr th {\n",
       "        vertical-align: top;\n",
       "    }\n",
       "\n",
       "    .dataframe thead th {\n",
       "        text-align: right;\n",
       "    }\n",
       "</style>\n",
       "<table border=\"1\" class=\"dataframe\">\n",
       "  <thead>\n",
       "    <tr style=\"text-align: right;\">\n",
       "      <th></th>\n",
       "      <th>Predicted</th>\n",
       "      <th>Percent Change</th>\n",
       "    </tr>\n",
       "  </thead>\n",
       "  <tbody>\n",
       "    <tr>\n",
       "      <th>2024-07-11 00:00:00-04:00</th>\n",
       "      <td>94.117134</td>\n",
       "      <td>NaN</td>\n",
       "    </tr>\n",
       "    <tr>\n",
       "      <th>2024-07-12 00:00:00-04:00</th>\n",
       "      <td>93.007213</td>\n",
       "      <td>-0.011793</td>\n",
       "    </tr>\n",
       "  </tbody>\n",
       "</table>\n",
       "</div>"
      ],
      "text/plain": [
       "                           Predicted  Percent Change\n",
       "2024-07-11 00:00:00-04:00  94.117134             NaN\n",
       "2024-07-12 00:00:00-04:00  93.007213       -0.011793"
      ]
     },
     "execution_count": 645,
     "metadata": {},
     "output_type": "execute_result"
    }
   ],
   "source": [
    "predictions = pd.DataFrame(future_predictions, index=future_dates, columns=['Predicted'])\n",
    "predictions['Percent Change'] = predictions['Predicted'].pct_change()\n",
    "\n",
    "predictions"
   ]
  },
  {
   "cell_type": "code",
   "execution_count": null,
   "metadata": {},
   "outputs": [],
   "source": []
  }
 ],
 "metadata": {
  "kernelspec": {
   "display_name": "financial-markets",
   "language": "python",
   "name": "python3"
  },
  "language_info": {
   "codemirror_mode": {
    "name": "ipython",
    "version": 3
   },
   "file_extension": ".py",
   "mimetype": "text/x-python",
   "name": "python",
   "nbconvert_exporter": "python",
   "pygments_lexer": "ipython3",
   "version": "3.11.8"
  }
 },
 "nbformat": 4,
 "nbformat_minor": 2
}
