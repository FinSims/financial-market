{
 "cells": [
  {
   "cell_type": "code",
   "execution_count": 450,
   "metadata": {},
   "outputs": [
    {
     "name": "stdout",
     "output_type": "stream",
     "text": [
      "yfinance.Ticker object <UNH>\n"
     ]
    }
   ],
   "source": [
    "import pandas as pd\n",
    "import numpy as np\n",
    "import torch\n",
    "import torch.nn as nn\n",
    "import torch.optim as optim\n",
    "import matplotlib.pyplot as plt\n",
    "import yfinance as yf\n",
    "import datetime\n",
    "\n",
    "msft = yf.Ticker(\"UNH\")\n",
    "print(msft)\n",
    "device = torch.device(\"cuda\" if torch.cuda.is_available() else \"cpu\")\n"
   ]
  },
  {
   "cell_type": "code",
   "execution_count": 451,
   "metadata": {},
   "outputs": [
    {
     "data": {
      "text/plain": [
       "{'address1': 'UnitedHealth Group Center',\n",
       " 'address2': '9900 Bren Road East',\n",
       " 'city': 'Minnetonka',\n",
       " 'state': 'MN',\n",
       " 'zip': '55343',\n",
       " 'country': 'United States',\n",
       " 'phone': '952 936 1300',\n",
       " 'website': 'https://www.unitedhealthgroup.com',\n",
       " 'industry': 'Healthcare Plans',\n",
       " 'industryKey': 'healthcare-plans',\n",
       " 'industryDisp': 'Healthcare Plans',\n",
       " 'sector': 'Healthcare',\n",
       " 'sectorKey': 'healthcare',\n",
       " 'sectorDisp': 'Healthcare',\n",
       " 'longBusinessSummary': \"UnitedHealth Group Incorporated operates as a diversified health care company in the United States. The company operates through four segments: UnitedHealthcare, Optum Health, Optum Insight, and Optum Rx. The UnitedHealthcare segment offers consumer-oriented health benefit plans and services for national employers, public sector employers, mid-sized employers, small businesses, and individuals; health care coverage, and health and well-being services to individuals age 50 and older addressing their needs; Medicaid plans, children's health insurance and health care programs; and health and dental benefits, and hospital and clinical services, as well as health care benefits products and services to state programs caring for the economically disadvantaged, medically underserved, and those without the benefit of employer-funded health care coverage. The Optum Health segment provides care delivery, care management, wellness and consumer engagement, and health financial services patients, consumers, care delivery systems, providers, employers, payers, and public-sector entities. The Optum Insight segment offers software and information products, advisory consulting arrangements, and managed services outsourcing contracts to hospital systems, physicians, health plans, governments, life sciences companies, and other organizations. The Optum Rx segment provides pharmacy care services and programs, including retail network contracting, home delivery, specialty and community health pharmacy services, infusion, and purchasing and clinical capabilities, as well as develops programs in the areas of step therapy, formulary management, drug adherence, and disease/drug therapy management. UnitedHealth Group Incorporated was founded in 1974 and is based in Minnetonka, Minnesota.\",\n",
       " 'fullTimeEmployees': 440000,\n",
       " 'companyOfficers': [{'maxAge': 1,\n",
       "   'name': 'Sir Andrew Philip Witty',\n",
       "   'age': 58,\n",
       "   'title': 'CEO & Non-Independent Director',\n",
       "   'yearBorn': 1965,\n",
       "   'fiscalYear': 2023,\n",
       "   'totalPay': 3533852,\n",
       "   'exercisedValue': 0,\n",
       "   'unexercisedValue': 35714392},\n",
       "  {'maxAge': 1,\n",
       "   'name': 'Mr. John F. Rex',\n",
       "   'age': 61,\n",
       "   'title': 'President & CFO',\n",
       "   'yearBorn': 1962,\n",
       "   'fiscalYear': 2023,\n",
       "   'totalPay': 2673427,\n",
       "   'exercisedValue': 0,\n",
       "   'unexercisedValue': 91985840},\n",
       "  {'maxAge': 1,\n",
       "   'name': 'Mr. Rupert  Bondy',\n",
       "   'age': 61,\n",
       "   'title': 'Senior Counsel & Executive VP of Governance, Compliance and Security',\n",
       "   'yearBorn': 1962,\n",
       "   'fiscalYear': 2023,\n",
       "   'totalPay': 1921400,\n",
       "   'exercisedValue': 0,\n",
       "   'unexercisedValue': 79548},\n",
       "  {'maxAge': 1,\n",
       "   'name': 'Mr. Brian Robert Thompson',\n",
       "   'age': 48,\n",
       "   'title': 'Chief Executive Officer of UnitedHealthcare',\n",
       "   'yearBorn': 1975,\n",
       "   'fiscalYear': 2023,\n",
       "   'totalPay': 2221187,\n",
       "   'exercisedValue': 0,\n",
       "   'unexercisedValue': 23693976},\n",
       "  {'maxAge': 1,\n",
       "   'name': 'Mr. Thomas Edward Roos',\n",
       "   'age': 50,\n",
       "   'title': 'Senior VP & Chief Accounting Officer',\n",
       "   'yearBorn': 1973,\n",
       "   'fiscalYear': 2023,\n",
       "   'exercisedValue': 0,\n",
       "   'unexercisedValue': 0},\n",
       "  {'maxAge': 1,\n",
       "   'name': 'Mr. Sandeep  Dadlani',\n",
       "   'age': 48,\n",
       "   'title': 'Executive VP and Chief Digital & Technology Officer',\n",
       "   'yearBorn': 1975,\n",
       "   'fiscalYear': 2023,\n",
       "   'exercisedValue': 0,\n",
       "   'unexercisedValue': 0},\n",
       "  {'maxAge': 1,\n",
       "   'name': 'Mr. Zachary William Sopcak',\n",
       "   'title': 'Senior Vice President of Capital Markets Communications & Investor Relations',\n",
       "   'fiscalYear': 2023,\n",
       "   'exercisedValue': 0,\n",
       "   'unexercisedValue': 0},\n",
       "  {'maxAge': 1,\n",
       "   'name': 'Mr. Chris  Zaetta',\n",
       "   'title': 'Executive VP, Chief Legal Officer & Corporate Secretary',\n",
       "   'fiscalYear': 2023,\n",
       "   'exercisedValue': 0,\n",
       "   'unexercisedValue': 0},\n",
       "  {'maxAge': 1,\n",
       "   'name': 'Ms. Jennifer Mound Smoter',\n",
       "   'title': 'Senior VP & Chief Communications Officer',\n",
       "   'fiscalYear': 2023,\n",
       "   'exercisedValue': 0,\n",
       "   'unexercisedValue': 0},\n",
       "  {'maxAge': 1,\n",
       "   'name': 'Mr. James T. Barry Jr.',\n",
       "   'age': 77,\n",
       "   'title': 'Director of Sales for Western Pennsylvania',\n",
       "   'yearBorn': 1946,\n",
       "   'fiscalYear': 2023,\n",
       "   'exercisedValue': 0,\n",
       "   'unexercisedValue': 0}],\n",
       " 'auditRisk': 6,\n",
       " 'boardRisk': 6,\n",
       " 'compensationRisk': 2,\n",
       " 'shareHolderRightsRisk': 1,\n",
       " 'overallRisk': 2,\n",
       " 'governanceEpochDate': 1719792000,\n",
       " 'compensationAsOfEpochDate': 1703980800,\n",
       " 'maxAge': 86400,\n",
       " 'priceHint': 2,\n",
       " 'previousClose': 500.93,\n",
       " 'open': 497.7,\n",
       " 'dayLow': 497.7,\n",
       " 'dayHigh': 508.73,\n",
       " 'regularMarketPreviousClose': 500.93,\n",
       " 'regularMarketOpen': 497.7,\n",
       " 'regularMarketDayLow': 497.7,\n",
       " 'regularMarketDayHigh': 508.73,\n",
       " 'dividendRate': 8.4,\n",
       " 'dividendYield': 0.0167,\n",
       " 'exDividendDate': 1718582400,\n",
       " 'payoutRatio': 0.4591,\n",
       " 'fiveYearAvgDividendYield': 1.37,\n",
       " 'beta': 0.603,\n",
       " 'trailingPE': 30.772423,\n",
       " 'forwardPE': 16.269676,\n",
       " 'volume': 3531438,\n",
       " 'regularMarketVolume': 3531438,\n",
       " 'averageVolume': 4185940,\n",
       " 'averageVolume10days': 5253170,\n",
       " 'averageDailyVolume10Day': 5253170,\n",
       " 'bidSize': 800,\n",
       " 'askSize': 1100,\n",
       " 'marketCap': 464205381632,\n",
       " 'fiftyTwoWeekLow': 436.38,\n",
       " 'fiftyTwoWeekHigh': 554.7,\n",
       " 'priceToSalesTrailing12Months': 1.2232445,\n",
       " 'fiftyDayAverage': 498.795,\n",
       " 'twoHundredDayAverage': 509.90564,\n",
       " 'trailingAnnualDividendRate': 7.52,\n",
       " 'trailingAnnualDividendYield': 0.015012078,\n",
       " 'currency': 'USD',\n",
       " 'enterpriseValue': 515362422784,\n",
       " 'profitMargins': 0.04048,\n",
       " 'floatShares': 917789589,\n",
       " 'sharesOutstanding': 920385024,\n",
       " 'sharesShort': 7808904,\n",
       " 'sharesShortPriorMonth': 8114406,\n",
       " 'sharesShortPreviousMonthDate': 1715731200,\n",
       " 'dateShortInterest': 1718323200,\n",
       " 'sharesPercentSharesOut': 0.0085,\n",
       " 'heldPercentInsiders': 0.00239,\n",
       " 'heldPercentInstitutions': 0.89386004,\n",
       " 'shortRatio': 2.2,\n",
       " 'shortPercentOfFloat': 0.0085,\n",
       " 'impliedSharesOutstanding': 920385024,\n",
       " 'bookValue': 94.226,\n",
       " 'priceToBook': 5.3526626,\n",
       " 'lastFiscalYearEnd': 1703980800,\n",
       " 'nextFiscalYearEnd': 1735603200,\n",
       " 'mostRecentQuarter': 1711843200,\n",
       " 'netIncomeToCommon': 15361000448,\n",
       " 'trailingEps': 16.39,\n",
       " 'forwardEps': 31.0,\n",
       " 'pegRatio': 1.43,\n",
       " 'lastSplitFactor': '2:1',\n",
       " 'lastSplitDate': 1117497600,\n",
       " 'enterpriseToRevenue': 1.358,\n",
       " 'enterpriseToEbitda': 14.724,\n",
       " '52WeekChange': 0.050377965,\n",
       " 'SandP52WeekChange': 0.23951602,\n",
       " 'lastDividendValue': 2.1,\n",
       " 'lastDividendDate': 1718582400,\n",
       " 'exchange': 'NYQ',\n",
       " 'quoteType': 'EQUITY',\n",
       " 'symbol': 'UNH',\n",
       " 'underlyingSymbol': 'UNH',\n",
       " 'shortName': 'UnitedHealth Group Incorporated',\n",
       " 'longName': 'UnitedHealth Group Incorporated',\n",
       " 'firstTradeDateEpochUtc': 466867800,\n",
       " 'timeZoneFullName': 'America/New_York',\n",
       " 'timeZoneShortName': 'EDT',\n",
       " 'uuid': '33ae4437-560d-3a42-9aa4-234d48c993c5',\n",
       " 'messageBoardId': 'finmb_104673',\n",
       " 'gmtOffSetMilliseconds': -14400000,\n",
       " 'currentPrice': 504.36,\n",
       " 'targetHighPrice': 675.0,\n",
       " 'targetLowPrice': 481.0,\n",
       " 'targetMeanPrice': 575.92,\n",
       " 'targetMedianPrice': 572.5,\n",
       " 'recommendationMean': 1.7,\n",
       " 'recommendationKey': 'buy',\n",
       " 'numberOfAnalystOpinions': 24,\n",
       " 'totalCash': 32710000640,\n",
       " 'totalCashPerShare': 35.539,\n",
       " 'ebitda': 35001999360,\n",
       " 'totalDebt': 73637003264,\n",
       " 'quickRatio': 0.758,\n",
       " 'currentRatio': 0.817,\n",
       " 'totalRevenue': 379486994432,\n",
       " 'debtToEquity': 75.979,\n",
       " 'revenuePerShare': 410.145,\n",
       " 'returnOnAssets': 0.070879996,\n",
       " 'returnOnEquity': 0.17222,\n",
       " 'freeCashflow': -930124992,\n",
       " 'operatingCashflow': 13884999680,\n",
       " 'revenueGrowth': 0.086,\n",
       " 'grossMargins': 0.24054001,\n",
       " 'ebitdaMargins': 0.09224,\n",
       " 'operatingMargins': 0.07947,\n",
       " 'financialCurrency': 'USD',\n",
       " 'trailingPegRatio': 1.416}"
      ]
     },
     "execution_count": 451,
     "metadata": {},
     "output_type": "execute_result"
    }
   ],
   "source": [
    "msft.info"
   ]
  },
  {
   "cell_type": "code",
   "execution_count": 452,
   "metadata": {},
   "outputs": [
    {
     "data": {
      "text/html": [
       "<div>\n",
       "<style scoped>\n",
       "    .dataframe tbody tr th:only-of-type {\n",
       "        vertical-align: middle;\n",
       "    }\n",
       "\n",
       "    .dataframe tbody tr th {\n",
       "        vertical-align: top;\n",
       "    }\n",
       "\n",
       "    .dataframe thead th {\n",
       "        text-align: right;\n",
       "    }\n",
       "</style>\n",
       "<table border=\"1\" class=\"dataframe\">\n",
       "  <thead>\n",
       "    <tr style=\"text-align: right;\">\n",
       "      <th></th>\n",
       "      <th>Open</th>\n",
       "      <th>High</th>\n",
       "      <th>Low</th>\n",
       "      <th>Close</th>\n",
       "      <th>Volume</th>\n",
       "      <th>Dividends</th>\n",
       "      <th>Stock Splits</th>\n",
       "    </tr>\n",
       "    <tr>\n",
       "      <th>Date</th>\n",
       "      <th></th>\n",
       "      <th></th>\n",
       "      <th></th>\n",
       "      <th></th>\n",
       "      <th></th>\n",
       "      <th></th>\n",
       "      <th></th>\n",
       "    </tr>\n",
       "  </thead>\n",
       "  <tbody>\n",
       "    <tr>\n",
       "      <th>2019-07-12 00:00:00-04:00</th>\n",
       "      <td>242.807172</td>\n",
       "      <td>247.345348</td>\n",
       "      <td>242.807172</td>\n",
       "      <td>246.769958</td>\n",
       "      <td>5336100</td>\n",
       "      <td>0.0</td>\n",
       "      <td>0.0</td>\n",
       "    </tr>\n",
       "    <tr>\n",
       "      <th>2019-07-15 00:00:00-04:00</th>\n",
       "      <td>245.990394</td>\n",
       "      <td>248.394054</td>\n",
       "      <td>245.238671</td>\n",
       "      <td>246.825638</td>\n",
       "      <td>2611400</td>\n",
       "      <td>0.0</td>\n",
       "      <td>0.0</td>\n",
       "    </tr>\n",
       "    <tr>\n",
       "      <th>2019-07-16 00:00:00-04:00</th>\n",
       "      <td>246.240968</td>\n",
       "      <td>247.920774</td>\n",
       "      <td>244.254944</td>\n",
       "      <td>245.619186</td>\n",
       "      <td>3121600</td>\n",
       "      <td>0.0</td>\n",
       "      <td>0.0</td>\n",
       "    </tr>\n",
       "    <tr>\n",
       "      <th>2019-07-17 00:00:00-04:00</th>\n",
       "      <td>245.006662</td>\n",
       "      <td>249.359245</td>\n",
       "      <td>244.542634</td>\n",
       "      <td>247.466003</td>\n",
       "      <td>3995200</td>\n",
       "      <td>0.0</td>\n",
       "      <td>0.0</td>\n",
       "    </tr>\n",
       "    <tr>\n",
       "      <th>2019-07-18 00:00:00-04:00</th>\n",
       "      <td>246.528680</td>\n",
       "      <td>247.336084</td>\n",
       "      <td>238.751571</td>\n",
       "      <td>241.851273</td>\n",
       "      <td>5825800</td>\n",
       "      <td>0.0</td>\n",
       "      <td>0.0</td>\n",
       "    </tr>\n",
       "    <tr>\n",
       "      <th>...</th>\n",
       "      <td>...</td>\n",
       "      <td>...</td>\n",
       "      <td>...</td>\n",
       "      <td>...</td>\n",
       "      <td>...</td>\n",
       "      <td>...</td>\n",
       "      <td>...</td>\n",
       "    </tr>\n",
       "    <tr>\n",
       "      <th>2024-07-05 00:00:00-04:00</th>\n",
       "      <td>489.000000</td>\n",
       "      <td>489.670013</td>\n",
       "      <td>484.500000</td>\n",
       "      <td>488.010010</td>\n",
       "      <td>3499000</td>\n",
       "      <td>0.0</td>\n",
       "      <td>0.0</td>\n",
       "    </tr>\n",
       "    <tr>\n",
       "      <th>2024-07-08 00:00:00-04:00</th>\n",
       "      <td>489.190002</td>\n",
       "      <td>493.880005</td>\n",
       "      <td>486.170013</td>\n",
       "      <td>489.339996</td>\n",
       "      <td>3450600</td>\n",
       "      <td>0.0</td>\n",
       "      <td>0.0</td>\n",
       "    </tr>\n",
       "    <tr>\n",
       "      <th>2024-07-09 00:00:00-04:00</th>\n",
       "      <td>488.329987</td>\n",
       "      <td>495.399994</td>\n",
       "      <td>486.089996</td>\n",
       "      <td>492.109985</td>\n",
       "      <td>3056800</td>\n",
       "      <td>0.0</td>\n",
       "      <td>0.0</td>\n",
       "    </tr>\n",
       "    <tr>\n",
       "      <th>2024-07-10 00:00:00-04:00</th>\n",
       "      <td>490.940002</td>\n",
       "      <td>501.500000</td>\n",
       "      <td>490.119995</td>\n",
       "      <td>500.929993</td>\n",
       "      <td>3189800</td>\n",
       "      <td>0.0</td>\n",
       "      <td>0.0</td>\n",
       "    </tr>\n",
       "    <tr>\n",
       "      <th>2024-07-11 00:00:00-04:00</th>\n",
       "      <td>497.700012</td>\n",
       "      <td>508.730011</td>\n",
       "      <td>497.700012</td>\n",
       "      <td>504.359985</td>\n",
       "      <td>3535100</td>\n",
       "      <td>0.0</td>\n",
       "      <td>0.0</td>\n",
       "    </tr>\n",
       "  </tbody>\n",
       "</table>\n",
       "<p>1258 rows × 7 columns</p>\n",
       "</div>"
      ],
      "text/plain": [
       "                                 Open        High         Low       Close  \\\n",
       "Date                                                                        \n",
       "2019-07-12 00:00:00-04:00  242.807172  247.345348  242.807172  246.769958   \n",
       "2019-07-15 00:00:00-04:00  245.990394  248.394054  245.238671  246.825638   \n",
       "2019-07-16 00:00:00-04:00  246.240968  247.920774  244.254944  245.619186   \n",
       "2019-07-17 00:00:00-04:00  245.006662  249.359245  244.542634  247.466003   \n",
       "2019-07-18 00:00:00-04:00  246.528680  247.336084  238.751571  241.851273   \n",
       "...                               ...         ...         ...         ...   \n",
       "2024-07-05 00:00:00-04:00  489.000000  489.670013  484.500000  488.010010   \n",
       "2024-07-08 00:00:00-04:00  489.190002  493.880005  486.170013  489.339996   \n",
       "2024-07-09 00:00:00-04:00  488.329987  495.399994  486.089996  492.109985   \n",
       "2024-07-10 00:00:00-04:00  490.940002  501.500000  490.119995  500.929993   \n",
       "2024-07-11 00:00:00-04:00  497.700012  508.730011  497.700012  504.359985   \n",
       "\n",
       "                            Volume  Dividends  Stock Splits  \n",
       "Date                                                         \n",
       "2019-07-12 00:00:00-04:00  5336100        0.0           0.0  \n",
       "2019-07-15 00:00:00-04:00  2611400        0.0           0.0  \n",
       "2019-07-16 00:00:00-04:00  3121600        0.0           0.0  \n",
       "2019-07-17 00:00:00-04:00  3995200        0.0           0.0  \n",
       "2019-07-18 00:00:00-04:00  5825800        0.0           0.0  \n",
       "...                            ...        ...           ...  \n",
       "2024-07-05 00:00:00-04:00  3499000        0.0           0.0  \n",
       "2024-07-08 00:00:00-04:00  3450600        0.0           0.0  \n",
       "2024-07-09 00:00:00-04:00  3056800        0.0           0.0  \n",
       "2024-07-10 00:00:00-04:00  3189800        0.0           0.0  \n",
       "2024-07-11 00:00:00-04:00  3535100        0.0           0.0  \n",
       "\n",
       "[1258 rows x 7 columns]"
      ]
     },
     "execution_count": 452,
     "metadata": {},
     "output_type": "execute_result"
    }
   ],
   "source": [
    "df = msft.history(period=\"5y\")\n",
    "df"
   ]
  },
  {
   "cell_type": "code",
   "execution_count": 453,
   "metadata": {},
   "outputs": [
    {
     "data": {
      "text/html": [
       "<div>\n",
       "<style scoped>\n",
       "    .dataframe tbody tr th:only-of-type {\n",
       "        vertical-align: middle;\n",
       "    }\n",
       "\n",
       "    .dataframe tbody tr th {\n",
       "        vertical-align: top;\n",
       "    }\n",
       "\n",
       "    .dataframe thead th {\n",
       "        text-align: right;\n",
       "    }\n",
       "</style>\n",
       "<table border=\"1\" class=\"dataframe\">\n",
       "  <thead>\n",
       "    <tr style=\"text-align: right;\">\n",
       "      <th></th>\n",
       "      <th>Close</th>\n",
       "    </tr>\n",
       "    <tr>\n",
       "      <th>Date</th>\n",
       "      <th></th>\n",
       "    </tr>\n",
       "  </thead>\n",
       "  <tbody>\n",
       "    <tr>\n",
       "      <th>2019-07-12 00:00:00-04:00</th>\n",
       "      <td>246.769958</td>\n",
       "    </tr>\n",
       "    <tr>\n",
       "      <th>2019-07-15 00:00:00-04:00</th>\n",
       "      <td>246.825638</td>\n",
       "    </tr>\n",
       "    <tr>\n",
       "      <th>2019-07-16 00:00:00-04:00</th>\n",
       "      <td>245.619186</td>\n",
       "    </tr>\n",
       "    <tr>\n",
       "      <th>2019-07-17 00:00:00-04:00</th>\n",
       "      <td>247.466003</td>\n",
       "    </tr>\n",
       "    <tr>\n",
       "      <th>2019-07-18 00:00:00-04:00</th>\n",
       "      <td>241.851273</td>\n",
       "    </tr>\n",
       "    <tr>\n",
       "      <th>...</th>\n",
       "      <td>...</td>\n",
       "    </tr>\n",
       "    <tr>\n",
       "      <th>2024-07-05 00:00:00-04:00</th>\n",
       "      <td>488.010010</td>\n",
       "    </tr>\n",
       "    <tr>\n",
       "      <th>2024-07-08 00:00:00-04:00</th>\n",
       "      <td>489.339996</td>\n",
       "    </tr>\n",
       "    <tr>\n",
       "      <th>2024-07-09 00:00:00-04:00</th>\n",
       "      <td>492.109985</td>\n",
       "    </tr>\n",
       "    <tr>\n",
       "      <th>2024-07-10 00:00:00-04:00</th>\n",
       "      <td>500.929993</td>\n",
       "    </tr>\n",
       "    <tr>\n",
       "      <th>2024-07-11 00:00:00-04:00</th>\n",
       "      <td>504.359985</td>\n",
       "    </tr>\n",
       "  </tbody>\n",
       "</table>\n",
       "<p>1258 rows × 1 columns</p>\n",
       "</div>"
      ],
      "text/plain": [
       "                                Close\n",
       "Date                                 \n",
       "2019-07-12 00:00:00-04:00  246.769958\n",
       "2019-07-15 00:00:00-04:00  246.825638\n",
       "2019-07-16 00:00:00-04:00  245.619186\n",
       "2019-07-17 00:00:00-04:00  247.466003\n",
       "2019-07-18 00:00:00-04:00  241.851273\n",
       "...                               ...\n",
       "2024-07-05 00:00:00-04:00  488.010010\n",
       "2024-07-08 00:00:00-04:00  489.339996\n",
       "2024-07-09 00:00:00-04:00  492.109985\n",
       "2024-07-10 00:00:00-04:00  500.929993\n",
       "2024-07-11 00:00:00-04:00  504.359985\n",
       "\n",
       "[1258 rows x 1 columns]"
      ]
     },
     "execution_count": 453,
     "metadata": {},
     "output_type": "execute_result"
    }
   ],
   "source": [
    "df = df[['Close']]\n",
    "df"
   ]
  },
  {
   "cell_type": "code",
   "execution_count": 454,
   "metadata": {},
   "outputs": [
    {
     "data": {
      "text/plain": [
       "[<matplotlib.lines.Line2D at 0x30adf3010>]"
      ]
     },
     "execution_count": 454,
     "metadata": {},
     "output_type": "execute_result"
    },
    {
     "data": {
      "image/png": "[encoded data removed]",
      "text/plain": [
       "<Figure size 640x480 with 1 Axes>"
      ]
     },
     "metadata": {},
     "output_type": "display_data"
    }
   ],
   "source": [
    "plt.plot(df.index, df['Close'])"
   ]
  },
  {
   "cell_type": "code",
   "execution_count": 455,
   "metadata": {},
   "outputs": [
    {
     "data": {
      "text/html": [
       "<div>\n",
       "<style scoped>\n",
       "    .dataframe tbody tr th:only-of-type {\n",
       "        vertical-align: middle;\n",
       "    }\n",
       "\n",
       "    .dataframe tbody tr th {\n",
       "        vertical-align: top;\n",
       "    }\n",
       "\n",
       "    .dataframe thead th {\n",
       "        text-align: right;\n",
       "    }\n",
       "</style>\n",
       "<table border=\"1\" class=\"dataframe\">\n",
       "  <thead>\n",
       "    <tr style=\"text-align: right;\">\n",
       "      <th></th>\n",
       "      <th>Close</th>\n",
       "      <th>Close(t-1)</th>\n",
       "      <th>Close(t-2)</th>\n",
       "      <th>Close(t-3)</th>\n",
       "      <th>Close(t-4)</th>\n",
       "      <th>Close(t-5)</th>\n",
       "      <th>Close(t-6)</th>\n",
       "      <th>Close(t-7)</th>\n",
       "    </tr>\n",
       "    <tr>\n",
       "      <th>Date</th>\n",
       "      <th></th>\n",
       "      <th></th>\n",
       "      <th></th>\n",
       "      <th></th>\n",
       "      <th></th>\n",
       "      <th></th>\n",
       "      <th></th>\n",
       "      <th></th>\n",
       "    </tr>\n",
       "  </thead>\n",
       "  <tbody>\n",
       "    <tr>\n",
       "      <th>2019-07-23 00:00:00-04:00</th>\n",
       "      <td>236.663452</td>\n",
       "      <td>236.951141</td>\n",
       "      <td>238.185455</td>\n",
       "      <td>241.851273</td>\n",
       "      <td>247.466003</td>\n",
       "      <td>245.619186</td>\n",
       "      <td>246.825638</td>\n",
       "      <td>246.769958</td>\n",
       "    </tr>\n",
       "    <tr>\n",
       "      <th>2019-07-24 00:00:00-04:00</th>\n",
       "      <td>233.062561</td>\n",
       "      <td>236.663452</td>\n",
       "      <td>236.951141</td>\n",
       "      <td>238.185455</td>\n",
       "      <td>241.851273</td>\n",
       "      <td>247.466003</td>\n",
       "      <td>245.619186</td>\n",
       "      <td>246.825638</td>\n",
       "    </tr>\n",
       "    <tr>\n",
       "      <th>2019-07-25 00:00:00-04:00</th>\n",
       "      <td>230.807404</td>\n",
       "      <td>233.062561</td>\n",
       "      <td>236.663452</td>\n",
       "      <td>236.951141</td>\n",
       "      <td>238.185455</td>\n",
       "      <td>241.851273</td>\n",
       "      <td>247.466003</td>\n",
       "      <td>245.619186</td>\n",
       "    </tr>\n",
       "    <tr>\n",
       "      <th>2019-07-26 00:00:00-04:00</th>\n",
       "      <td>234.742386</td>\n",
       "      <td>230.807404</td>\n",
       "      <td>233.062561</td>\n",
       "      <td>236.663452</td>\n",
       "      <td>236.951141</td>\n",
       "      <td>238.185455</td>\n",
       "      <td>241.851273</td>\n",
       "      <td>247.466003</td>\n",
       "    </tr>\n",
       "    <tr>\n",
       "      <th>2019-07-29 00:00:00-04:00</th>\n",
       "      <td>235.559067</td>\n",
       "      <td>234.742386</td>\n",
       "      <td>230.807404</td>\n",
       "      <td>233.062561</td>\n",
       "      <td>236.663452</td>\n",
       "      <td>236.951141</td>\n",
       "      <td>238.185455</td>\n",
       "      <td>241.851273</td>\n",
       "    </tr>\n",
       "    <tr>\n",
       "      <th>...</th>\n",
       "      <td>...</td>\n",
       "      <td>...</td>\n",
       "      <td>...</td>\n",
       "      <td>...</td>\n",
       "      <td>...</td>\n",
       "      <td>...</td>\n",
       "      <td>...</td>\n",
       "      <td>...</td>\n",
       "    </tr>\n",
       "    <tr>\n",
       "      <th>2024-07-05 00:00:00-04:00</th>\n",
       "      <td>488.010010</td>\n",
       "      <td>489.890015</td>\n",
       "      <td>498.239990</td>\n",
       "      <td>494.649994</td>\n",
       "      <td>509.260010</td>\n",
       "      <td>486.440002</td>\n",
       "      <td>484.040009</td>\n",
       "      <td>484.500000</td>\n",
       "    </tr>\n",
       "    <tr>\n",
       "      <th>2024-07-08 00:00:00-04:00</th>\n",
       "      <td>489.339996</td>\n",
       "      <td>488.010010</td>\n",
       "      <td>489.890015</td>\n",
       "      <td>498.239990</td>\n",
       "      <td>494.649994</td>\n",
       "      <td>509.260010</td>\n",
       "      <td>486.440002</td>\n",
       "      <td>484.040009</td>\n",
       "    </tr>\n",
       "    <tr>\n",
       "      <th>2024-07-09 00:00:00-04:00</th>\n",
       "      <td>492.109985</td>\n",
       "      <td>489.339996</td>\n",
       "      <td>488.010010</td>\n",
       "      <td>489.890015</td>\n",
       "      <td>498.239990</td>\n",
       "      <td>494.649994</td>\n",
       "      <td>509.260010</td>\n",
       "      <td>486.440002</td>\n",
       "    </tr>\n",
       "    <tr>\n",
       "      <th>2024-07-10 00:00:00-04:00</th>\n",
       "      <td>500.929993</td>\n",
       "      <td>492.109985</td>\n",
       "      <td>489.339996</td>\n",
       "      <td>488.010010</td>\n",
       "      <td>489.890015</td>\n",
       "      <td>498.239990</td>\n",
       "      <td>494.649994</td>\n",
       "      <td>509.260010</td>\n",
       "    </tr>\n",
       "    <tr>\n",
       "      <th>2024-07-11 00:00:00-04:00</th>\n",
       "      <td>504.359985</td>\n",
       "      <td>500.929993</td>\n",
       "      <td>492.109985</td>\n",
       "      <td>489.339996</td>\n",
       "      <td>488.010010</td>\n",
       "      <td>489.890015</td>\n",
       "      <td>498.239990</td>\n",
       "      <td>494.649994</td>\n",
       "    </tr>\n",
       "  </tbody>\n",
       "</table>\n",
       "<p>1251 rows × 8 columns</p>\n",
       "</div>"
      ],
      "text/plain": [
       "                                Close  Close(t-1)  Close(t-2)  Close(t-3)  \\\n",
       "Date                                                                        \n",
       "2019-07-23 00:00:00-04:00  236.663452  236.951141  238.185455  241.851273   \n",
       "2019-07-24 00:00:00-04:00  233.062561  236.663452  236.951141  238.185455   \n",
       "2019-07-25 00:00:00-04:00  230.807404  233.062561  236.663452  236.951141   \n",
       "2019-07-26 00:00:00-04:00  234.742386  230.807404  233.062561  236.663452   \n",
       "2019-07-29 00:00:00-04:00  235.559067  234.742386  230.807404  233.062561   \n",
       "...                               ...         ...         ...         ...   \n",
       "2024-07-05 00:00:00-04:00  488.010010  489.890015  498.239990  494.649994   \n",
       "2024-07-08 00:00:00-04:00  489.339996  488.010010  489.890015  498.239990   \n",
       "2024-07-09 00:00:00-04:00  492.109985  489.339996  488.010010  489.890015   \n",
       "2024-07-10 00:00:00-04:00  500.929993  492.109985  489.339996  488.010010   \n",
       "2024-07-11 00:00:00-04:00  504.359985  500.929993  492.109985  489.339996   \n",
       "\n",
       "                           Close(t-4)  Close(t-5)  Close(t-6)  Close(t-7)  \n",
       "Date                                                                       \n",
       "2019-07-23 00:00:00-04:00  247.466003  245.619186  246.825638  246.769958  \n",
       "2019-07-24 00:00:00-04:00  241.851273  247.466003  245.619186  246.825638  \n",
       "2019-07-25 00:00:00-04:00  238.185455  241.851273  247.466003  245.619186  \n",
       "2019-07-26 00:00:00-04:00  236.951141  238.185455  241.851273  247.466003  \n",
       "2019-07-29 00:00:00-04:00  236.663452  236.951141  238.185455  241.851273  \n",
       "...                               ...         ...         ...         ...  \n",
       "2024-07-05 00:00:00-04:00  509.260010  486.440002  484.040009  484.500000  \n",
       "2024-07-08 00:00:00-04:00  494.649994  509.260010  486.440002  484.040009  \n",
       "2024-07-09 00:00:00-04:00  498.239990  494.649994  509.260010  486.440002  \n",
       "2024-07-10 00:00:00-04:00  489.890015  498.239990  494.649994  509.260010  \n",
       "2024-07-11 00:00:00-04:00  488.010010  489.890015  498.239990  494.649994  \n",
       "\n",
       "[1251 rows x 8 columns]"
      ]
     },
     "execution_count": 455,
     "metadata": {},
     "output_type": "execute_result"
    }
   ],
   "source": [
    "from copy import deepcopy as dc\n",
    "\n",
    "def prepare_dataframe_for_lstm(df, n_steps):\n",
    "    df = dc(df)\n",
    "\n",
    "\n",
    "    for i in range(1, n_steps+1):\n",
    "        df[f'Close(t-{i})'] = df['Close'].shift(i)\n",
    "\n",
    "    df.dropna(inplace=True)\n",
    "\n",
    "    return df\n",
    "\n",
    "lookback = 7\n",
    "shifted_df = prepare_dataframe_for_lstm(df, lookback)\n",
    "shifted_df"
   ]
  },
  {
   "cell_type": "code",
   "execution_count": 456,
   "metadata": {},
   "outputs": [
    {
     "data": {
      "text/plain": [
       "array([[236.66345215, 236.95114136, 238.18545532, ..., 245.6191864 ,\n",
       "        246.82563782, 246.7699585 ],\n",
       "       [233.06256104, 236.66345215, 236.95114136, ..., 247.46600342,\n",
       "        245.6191864 , 246.82563782],\n",
       "       [230.80740356, 233.06256104, 236.66345215, ..., 241.85127258,\n",
       "        247.46600342, 245.6191864 ],\n",
       "       ...,\n",
       "       [492.10998535, 489.33999634, 488.01000977, ..., 494.6499939 ,\n",
       "        509.26000977, 486.44000244],\n",
       "       [500.92999268, 492.10998535, 489.33999634, ..., 498.23999023,\n",
       "        494.6499939 , 509.26000977],\n",
       "       [504.35998535, 500.92999268, 492.10998535, ..., 489.89001465,\n",
       "        498.23999023, 494.6499939 ]])"
      ]
     },
     "execution_count": 456,
     "metadata": {},
     "output_type": "execute_result"
    }
   ],
   "source": [
    "shifted_df_np = shifted_df.to_numpy()\n",
    "shifted_df_np"
   ]
  },
  {
   "cell_type": "code",
   "execution_count": 457,
   "metadata": {},
   "outputs": [
    {
     "data": {
      "text/plain": [
       "array([[-0.70568233, -0.70409912, -0.69730645, ..., -0.65639714,\n",
       "        -0.64975779, -0.65006421],\n",
       "       [-0.72549876, -0.70568233, -0.70409912, ..., -0.64623373,\n",
       "        -0.65639714, -0.64975779],\n",
       "       [-0.73790934, -0.72549876, -0.70568233, ..., -0.67713272,\n",
       "        -0.64623373, -0.65639714],\n",
       "       ...,\n",
       "       [ 0.70009105,  0.68484724,  0.67752806, ...,  0.71406922,\n",
       "         0.79447106,  0.668888  ],\n",
       "       [ 0.74862931,  0.70009105,  0.68484724, ...,  0.73382569,\n",
       "         0.71406922,  0.79447106],\n",
       "       [ 0.76750525,  0.74862931,  0.70009105, ...,  0.6878741 ,\n",
       "         0.73382569,  0.71406922]])"
      ]
     },
     "execution_count": 457,
     "metadata": {},
     "output_type": "execute_result"
    }
   ],
   "source": [
    "from sklearn.preprocessing import MinMaxScaler\n",
    "\n",
    "scaler = MinMaxScaler(feature_range=(-1, 1))\n",
    "shifted_df_np = scaler.fit_transform(shifted_df_np)\n",
    "\n",
    "shifted_df_np"
   ]
  },
  {
   "cell_type": "code",
   "execution_count": 458,
   "metadata": {},
   "outputs": [
    {
     "name": "stdout",
     "output_type": "stream",
     "text": [
      "[[-0.70409912 -0.69730645 -0.67713272 ... -0.65639714 -0.64975779\n",
      "  -0.65006421]\n",
      " [-0.70568233 -0.70409912 -0.69730645 ... -0.64623373 -0.65639714\n",
      "  -0.64975779]\n",
      " [-0.72549876 -0.70568233 -0.70409912 ... -0.67713272 -0.64623373\n",
      "  -0.65639714]\n",
      " ...\n",
      " [ 0.68484724  0.67752806  0.6878741  ...  0.71406922  0.79447106\n",
      "   0.668888  ]\n",
      " [ 0.70009105  0.68484724  0.67752806 ...  0.73382569  0.71406922\n",
      "   0.79447106]\n",
      " [ 0.74862931  0.70009105  0.68484724 ...  0.6878741   0.73382569\n",
      "   0.71406922]]\n"
     ]
    }
   ],
   "source": [
    "X = shifted_df_np[:, 1:]\n",
    "y = shifted_df_np[:, 0]\n",
    "\n",
    "X.shape, y.shape\n",
    "print(X)"
   ]
  },
  {
   "cell_type": "code",
   "execution_count": 459,
   "metadata": {},
   "outputs": [
    {
     "data": {
      "text/plain": [
       "1188"
      ]
     },
     "execution_count": 459,
     "metadata": {},
     "output_type": "execute_result"
    }
   ],
   "source": [
    "X = dc(np.flip(X, axis=1))\n",
    "X\n",
    "split_index = int(len(X) * .95)\n",
    "split_index"
   ]
  },
  {
   "cell_type": "code",
   "execution_count": 460,
   "metadata": {},
   "outputs": [
    {
     "data": {
      "text/plain": [
       "(torch.Size([1188, 7, 1]),\n",
       " torch.Size([63, 7, 1]),\n",
       " torch.Size([1188, 1]),\n",
       " torch.Size([63, 1]))"
      ]
     },
     "execution_count": 460,
     "metadata": {},
     "output_type": "execute_result"
    }
   ],
   "source": [
    "X_train = X[:split_index]\n",
    "X_test = X[split_index:]\n",
    "\n",
    "y_train = y[:split_index]\n",
    "y_test = y[split_index:]\n",
    "\n",
    "X_train = X_train.reshape((-1, lookback, 1))\n",
    "X_test = X_test.reshape((-1, lookback, 1))\n",
    "\n",
    "y_train = y_train.reshape((-1, 1))\n",
    "y_test = y_test.reshape((-1, 1))\n",
    "\n",
    "X_train.shape, X_test.shape, y_train.shape, y_test.shape\n",
    "\n",
    "X_train = torch.tensor(X_train).float()\n",
    "y_train = torch.tensor(y_train).float()\n",
    "X_test = torch.tensor(X_test).float()\n",
    "y_test = torch.tensor(y_test).float()\n",
    "\n",
    "X_train.shape, X_test.shape, y_train.shape, y_test.shape"
   ]
  },
  {
   "cell_type": "code",
   "execution_count": 461,
   "metadata": {},
   "outputs": [
    {
     "data": {
      "text/plain": [
       "<__main__.TimeSeriesDataset at 0x309cfbad0>"
      ]
     },
     "execution_count": 461,
     "metadata": {},
     "output_type": "execute_result"
    }
   ],
   "source": [
    "from torch.utils.data import Dataset\n",
    "\n",
    "class TimeSeriesDataset(Dataset):\n",
    "    def __init__(self, X, y):\n",
    "        self.X = X\n",
    "        self.y = y\n",
    "\n",
    "    def __len__(self):\n",
    "        return len(self.X)\n",
    "\n",
    "    def __getitem__(self, i):\n",
    "        return self.X[i], self.y[i]\n",
    "\n",
    "train_dataset = TimeSeriesDataset(X_train, y_train)\n",
    "test_dataset = TimeSeriesDataset(X_test, y_test)\n",
    "train_dataset"
   ]
  },
  {
   "cell_type": "code",
   "execution_count": 462,
   "metadata": {},
   "outputs": [
    {
     "name": "stdout",
     "output_type": "stream",
     "text": [
      "torch.Size([16, 7, 1]) torch.Size([16, 1])\n"
     ]
    }
   ],
   "source": [
    "from torch.utils.data import DataLoader\n",
    "\n",
    "batch_size = 16\n",
    "\n",
    "train_loader = DataLoader(train_dataset, batch_size=batch_size, shuffle=True)\n",
    "test_loader = DataLoader(test_dataset, batch_size=batch_size, shuffle=False)\n",
    "\n",
    "\n",
    "for _, batch in enumerate(train_loader):\n",
    "    x_batch, y_batch = batch[0].to(device), batch[1].to(device)\n",
    "    print(x_batch.shape, y_batch.shape)\n",
    "    break"
   ]
  },
  {
   "cell_type": "code",
   "execution_count": 463,
   "metadata": {},
   "outputs": [
    {
     "data": {
      "text/plain": [
       "LSTM(\n",
       "  (lstm): LSTM(1, 16, num_layers=2, batch_first=True)\n",
       "  (fc): Linear(in_features=16, out_features=1, bias=True)\n",
       ")"
      ]
     },
     "execution_count": 463,
     "metadata": {},
     "output_type": "execute_result"
    }
   ],
   "source": [
    "class LSTM(nn.Module):\n",
    "    def __init__(self, input_size, hidden_size, num_stacked_layers):\n",
    "        super().__init__()\n",
    "        self.hidden_size = hidden_size\n",
    "        self.num_stacked_layers = num_stacked_layers\n",
    "\n",
    "        self.lstm = nn.LSTM(input_size, hidden_size, num_stacked_layers,\n",
    "                            batch_first=True)\n",
    "\n",
    "        self.fc = nn.Linear(hidden_size, 1)\n",
    "\n",
    "    def forward(self, x):\n",
    "        batch_size = x.size(0)\n",
    "        h0 = torch.zeros(self.num_stacked_layers, batch_size, self.hidden_size).to(device)\n",
    "        c0 = torch.zeros(self.num_stacked_layers, batch_size, self.hidden_size).to(device)\n",
    "\n",
    "        out, _ = self.lstm(x, (h0, c0))\n",
    "        out = self.fc(out[:, -1, :])\n",
    "        return out\n",
    "\n",
    "model = LSTM(1, 16, 2)\n",
    "model.to(device)\n",
    "model"
   ]
  },
  {
   "cell_type": "code",
   "execution_count": 464,
   "metadata": {},
   "outputs": [],
   "source": [
    "def train_one_epoch():\n",
    "    model.train(True)\n",
    "    print(f'Epoch: {epoch + 1}')\n",
    "    running_loss = 0.0\n",
    "\n",
    "    for batch_index, batch in enumerate(train_loader):\n",
    "        x_batch, y_batch = batch[0].to(device), batch[1].to(device)\n",
    "\n",
    "        output = model(x_batch)\n",
    "        loss = loss_function(output, y_batch)\n",
    "        running_loss += loss.item()\n",
    "\n",
    "        optimizer.zero_grad()\n",
    "        loss.backward()\n",
    "        optimizer.step()\n",
    "\n",
    "        if batch_index % 100 == 99:  # print every 100 batches\n",
    "            avg_loss_across_batches = running_loss / 100\n",
    "            print('Batch {0}, Loss: {1:.3f}'.format(batch_index+1,\n",
    "                                                    avg_loss_across_batches))\n",
    "            running_loss = 0.0\n",
    "    print() \n",
    "def validate_one_epoch():\n",
    "    model.train(False)\n",
    "    running_loss = 0.0\n",
    "\n",
    "    for batch_index, batch in enumerate(test_loader):\n",
    "        x_batch, y_batch = batch[0].to(device), batch[1].to(device)\n",
    "\n",
    "        with torch.no_grad():\n",
    "            output = model(x_batch)\n",
    "            loss = loss_function(output, y_batch)\n",
    "            running_loss += loss.item()\n",
    "\n",
    "    avg_loss_across_batches = running_loss / len(test_loader)\n",
    "\n",
    "    print('Val Loss: {0:.3f}'.format(avg_loss_across_batches))\n",
    "    print('***************************************************')\n",
    "    print()"
   ]
  },
  {
   "cell_type": "code",
   "execution_count": 465,
   "metadata": {},
   "outputs": [
    {
     "name": "stdout",
     "output_type": "stream",
     "text": [
      "Epoch: 1\n"
     ]
    },
    {
     "name": "stdout",
     "output_type": "stream",
     "text": [
      "\n",
      "Val Loss: 0.008\n",
      "***************************************************\n",
      "\n",
      "Epoch: 2\n",
      "\n",
      "Val Loss: 0.005\n",
      "***************************************************\n",
      "\n",
      "Epoch: 3\n",
      "\n",
      "Val Loss: 0.005\n",
      "***************************************************\n",
      "\n",
      "Epoch: 4\n",
      "\n",
      "Val Loss: 0.005\n",
      "***************************************************\n",
      "\n",
      "Epoch: 5\n",
      "\n",
      "Val Loss: 0.005\n",
      "***************************************************\n",
      "\n",
      "Epoch: 6\n",
      "\n",
      "Val Loss: 0.005\n",
      "***************************************************\n",
      "\n",
      "Epoch: 7\n",
      "\n",
      "Val Loss: 0.005\n",
      "***************************************************\n",
      "\n",
      "Epoch: 8\n",
      "\n",
      "Val Loss: 0.005\n",
      "***************************************************\n",
      "\n",
      "Epoch: 9\n",
      "\n",
      "Val Loss: 0.007\n",
      "***************************************************\n",
      "\n",
      "Epoch: 10\n",
      "\n",
      "Val Loss: 0.005\n",
      "***************************************************\n",
      "\n",
      "Epoch: 11\n",
      "\n",
      "Val Loss: 0.005\n",
      "***************************************************\n",
      "\n",
      "Epoch: 12\n",
      "\n",
      "Val Loss: 0.005\n",
      "***************************************************\n",
      "\n",
      "Epoch: 13\n",
      "\n",
      "Val Loss: 0.005\n",
      "***************************************************\n",
      "\n",
      "Epoch: 14\n",
      "\n",
      "Val Loss: 0.005\n",
      "***************************************************\n",
      "\n",
      "Epoch: 15\n",
      "\n",
      "Val Loss: 0.005\n",
      "***************************************************\n",
      "\n",
      "Epoch: 16\n",
      "\n",
      "Val Loss: 0.005\n",
      "***************************************************\n",
      "\n",
      "Epoch: 17\n",
      "\n",
      "Val Loss: 0.005\n",
      "***************************************************\n",
      "\n",
      "Epoch: 18\n",
      "\n",
      "Val Loss: 0.004\n",
      "***************************************************\n",
      "\n",
      "Epoch: 19\n",
      "\n",
      "Val Loss: 0.004\n",
      "***************************************************\n",
      "\n",
      "Epoch: 20\n",
      "\n",
      "Val Loss: 0.004\n",
      "***************************************************\n",
      "\n"
     ]
    }
   ],
   "source": [
    "learning_rate = 0.001\n",
    "num_epochs = 20\n",
    "loss_function = nn.MSELoss()\n",
    "optimizer = torch.optim.Adam(model.parameters(), lr=learning_rate)\n",
    "\n",
    "for epoch in range(num_epochs):\n",
    "    train_one_epoch()\n",
    "    validate_one_epoch()"
   ]
  },
  {
   "cell_type": "code",
   "execution_count": 466,
   "metadata": {},
   "outputs": [
    {
     "data": {
      "image/png": "[encoded data removed]",
      "text/plain": [
       "<Figure size 640x480 with 1 Axes>"
      ]
     },
     "metadata": {},
     "output_type": "display_data"
    }
   ],
   "source": [
    "with torch.no_grad():\n",
    "    predicted = model(X_train.to(device)).to('cpu').numpy()\n",
    "\n",
    "plt.plot(y_train, label='Actual Close')\n",
    "\n",
    "plt.plot(predicted, label='Predicted Close')\n",
    "plt.xlabel('Day')\n",
    "plt.ylabel('Close')\n",
    "plt.legend()\n",
    "plt.show()"
   ]
  },
  {
   "cell_type": "code",
   "execution_count": 467,
   "metadata": {},
   "outputs": [
    {
     "name": "stdout",
     "output_type": "stream",
     "text": [
      "torch.Size([1188, 1])\n",
      "(1188, 1)\n",
      "(1188,)\n"
     ]
    }
   ],
   "source": [
    "print(y_train.shape)\n",
    "print(predicted.shape)\n",
    "train_predictions = predicted.flatten()\n",
    "print(train_predictions.shape)"
   ]
  },
  {
   "cell_type": "code",
   "execution_count": 468,
   "metadata": {},
   "outputs": [
    {
     "data": {
      "text/plain": [
       "array([248.3161529 , 246.58759439, 244.58412582, ..., 467.20345278,\n",
       "       462.7038827 , 460.32557812])"
      ]
     },
     "execution_count": 468,
     "metadata": {},
     "output_type": "execute_result"
    }
   ],
   "source": [
    "\n",
    "dummies = np.zeros((X_train.shape[0], lookback+1))\n",
    "dummies[:, 0] = train_predictions\n",
    "dummies = scaler.inverse_transform(dummies)\n",
    "\n",
    "train_predictions = dc(dummies[:, 0])\n",
    "train_predictions"
   ]
  },
  {
   "cell_type": "code",
   "execution_count": 469,
   "metadata": {},
   "outputs": [
    {
     "data": {
      "text/plain": [
       "array([236.6634515 , 233.06256504, 230.80740787, ..., 454.07369736,\n",
       "       457.77798648, 448.14880166])"
      ]
     },
     "execution_count": 469,
     "metadata": {},
     "output_type": "execute_result"
    }
   ],
   "source": [
    "dummies = np.zeros((X_train.shape[0], lookback+1))\n",
    "dummies[:, 0] = y_train.flatten()\n",
    "dummies = scaler.inverse_transform(dummies)\n",
    "\n",
    "new_y_train = dc(dummies[:, 0])\n",
    "new_y_train"
   ]
  },
  {
   "cell_type": "code",
   "execution_count": 470,
   "metadata": {},
   "outputs": [
    {
     "data": {
      "image/png": "[encoded data removed]",
      "text/plain": [
       "<Figure size 640x480 with 1 Axes>"
      ]
     },
     "metadata": {},
     "output_type": "display_data"
    }
   ],
   "source": [
    "plt.plot(new_y_train, label='Actual Close')\n",
    "plt.plot(train_predictions, label='Predicted Close')\n",
    "plt.xlabel('Day')\n",
    "plt.ylabel('Close')\n",
    "plt.legend()\n",
    "plt.show()\n"
   ]
  },
  {
   "cell_type": "code",
   "execution_count": 471,
   "metadata": {},
   "outputs": [
    {
     "data": {
      "text/plain": [
       "array([457.85150667, 454.9615934 , 451.23609737, 448.96077305,\n",
       "       451.53381732, 457.53591572, 466.28060541, 476.33353861,\n",
       "       483.82642462, 488.04461859, 490.00516428, 491.15798429,\n",
       "       492.25229575, 492.06784541, 490.58206167, 489.17263583,\n",
       "       489.30464292, 489.94971004, 490.90039284, 492.94252775,\n",
       "       495.69251654, 498.89959124, 502.54223084, 505.44925694,\n",
       "       508.06147661, 510.59257278, 513.09522699, 515.75822194,\n",
       "       517.0146829 , 518.19773197, 519.02813756, 518.84782463,\n",
       "       516.93155569, 513.77948033, 507.6973632 , 500.85006418,\n",
       "       496.49495673, 494.6053968 , 495.48361002, 497.29068176,\n",
       "       498.96249715, 498.98930364, 498.51322032, 497.65412366,\n",
       "       496.53901686, 495.96710168, 495.96066812, 495.31210261,\n",
       "       493.444941  , 491.45501107, 489.49616583, 489.1285757 ,\n",
       "       488.57084901, 488.0261519 , 488.07470685, 491.96872096,\n",
       "       494.5900819 , 496.84553151, 497.07705296, 496.29350187,\n",
       "       495.23883153, 494.59867081, 495.09343745])"
      ]
     },
     "execution_count": 471,
     "metadata": {},
     "output_type": "execute_result"
    }
   ],
   "source": [
    "test_predictions = model(X_test.to(device)).detach().cpu().numpy().flatten()\n",
    "\n",
    "dummies = np.zeros((X_test.shape[0], lookback+1))\n",
    "dummies[:, 0] = test_predictions\n",
    "dummies = scaler.inverse_transform(dummies)\n",
    "\n",
    "test_predictions = dc(dummies[:, 0])\n",
    "test_predictions"
   ]
  },
  {
   "cell_type": "code",
   "execution_count": 472,
   "metadata": {},
   "outputs": [
    {
     "data": {
      "text/plain": [
       "array([439.85400617, 437.34466387, 443.74749497, 466.90924204,\n",
       "       476.96655093, 491.09661638, 499.01306665, 489.15487314,\n",
       "       484.12619162, 485.24145005, 491.77374298, 493.25747968,\n",
       "       486.96417069, 481.65667998, 482.06494017, 490.8875149 ,\n",
       "       490.36972176, 492.29156861, 498.84374709, 501.08426087,\n",
       "       504.88811852, 510.64370549, 509.57821507, 511.7091959 ,\n",
       "       515.36365202, 519.0679953 , 522.41375976, 515.04503925,\n",
       "       521.33831574, 519.1475808 , 514.64673267, 506.02331664,\n",
       "       501.55227517, 482.67235906, 479.6153249 , 493.27737605,\n",
       "       495.3386275 , 503.35461381, 500.99462429, 499.79971538,\n",
       "       488.61716196, 492.90893028, 494.12377889, 490.98709425,\n",
       "       495.19922291, 495.01999307, 489.23000714, 481.04998676,\n",
       "       484.51999255, 482.59000085, 489.98001491, 484.49999869,\n",
       "       484.0400101 , 486.43999815, 509.26001388, 494.64999848,\n",
       "       498.23998904, 489.89001008, 488.01001385, 489.33999499,\n",
       "       492.10998847, 500.92999627, 504.35998186])"
      ]
     },
     "execution_count": 472,
     "metadata": {},
     "output_type": "execute_result"
    }
   ],
   "source": [
    "dummies = np.zeros((X_test.shape[0], lookback+1))\n",
    "dummies[:, 0] = y_test.flatten()\n",
    "dummies = scaler.inverse_transform(dummies)\n",
    "\n",
    "new_y_test = dc(dummies[:, 0])\n",
    "new_y_test"
   ]
  },
  {
   "cell_type": "code",
   "execution_count": 473,
   "metadata": {},
   "outputs": [
    {
     "data": {
      "image/png": "[encoded data removed]",
      "text/plain": [
       "<Figure size 640x480 with 1 Axes>"
      ]
     },
     "metadata": {},
     "output_type": "display_data"
    }
   ],
   "source": [
    "plt.plot(new_y_test, label='Actual Close')\n",
    "plt.plot(test_predictions, label='Predicted Close')\n",
    "plt.xlabel('Day')\n",
    "plt.ylabel('Close')\n",
    "plt.legend()\n",
    "plt.show()\n"
   ]
  },
  {
   "cell_type": "code",
   "execution_count": 474,
   "metadata": {},
   "outputs": [
    {
     "data": {
      "text/plain": [
       "array([457.85150667, 454.9615934 , 451.23609737, 448.96077305,\n",
       "       451.53381732, 457.53591572, 466.28060541, 476.33353861,\n",
       "       483.82642462, 488.04461859, 490.00516428, 491.15798429,\n",
       "       492.25229575, 492.06784541, 490.58206167, 489.17263583,\n",
       "       489.30464292, 489.94971004, 490.90039284, 492.94252775,\n",
       "       495.69251654, 498.89959124, 502.54223084, 505.44925694,\n",
       "       508.06147661, 510.59257278, 513.09522699, 515.75822194,\n",
       "       517.0146829 , 518.19773197, 519.02813756, 518.84782463,\n",
       "       516.93155569, 513.77948033, 507.6973632 , 500.85006418,\n",
       "       496.49495673, 494.6053968 , 495.48361002, 497.29068176,\n",
       "       498.96249715, 498.98930364, 498.51322032, 497.65412366,\n",
       "       496.53901686, 495.96710168, 495.96066812, 495.31210261,\n",
       "       493.444941  , 491.45501107, 489.49616583, 489.1285757 ,\n",
       "       488.57084901, 488.0261519 , 488.07470685, 491.96872096,\n",
       "       494.5900819 , 496.84553151, 497.07705296, 496.29350187,\n",
       "       495.23883153, 494.59867081, 495.09343745])"
      ]
     },
     "execution_count": 474,
     "metadata": {},
     "output_type": "execute_result"
    }
   ],
   "source": [
    "test_predictions"
   ]
  },
  {
   "cell_type": "code",
   "execution_count": 475,
   "metadata": {},
   "outputs": [
    {
     "name": "stdout",
     "output_type": "stream",
     "text": [
      "Test Results:\n",
      "                        Date      Actual   Predicted\n",
      "0  2024-04-11 00:00:00-04:00  439.854006  457.851507\n",
      "1  2024-04-12 00:00:00-04:00  437.344664  454.961593\n",
      "2  2024-04-15 00:00:00-04:00  443.747495  451.236097\n",
      "3  2024-04-16 00:00:00-04:00  466.909242  448.960773\n",
      "4  2024-04-17 00:00:00-04:00  476.966551  451.533817\n",
      "..                       ...         ...         ...\n",
      "58 2024-07-05 00:00:00-04:00  488.010014  497.077053\n",
      "59 2024-07-08 00:00:00-04:00  489.339995  496.293502\n",
      "60 2024-07-09 00:00:00-04:00  492.109988  495.238832\n",
      "61 2024-07-10 00:00:00-04:00  500.929996  494.598671\n",
      "62 2024-07-11 00:00:00-04:00  504.359982  495.093437\n",
      "\n",
      "[63 rows x 3 columns]\n"
     ]
    }
   ],
   "source": [
    "\n",
    "test_dates = df.index[-len(new_y_test):]\n",
    "\n",
    "# Create dataframe with dates, actual and predicted values\n",
    "test_results_df = pd.DataFrame({\n",
    "    'Date': test_dates,\n",
    "    'Actual': new_y_test,\n",
    "    'Predicted': test_predictions\n",
    "})\n",
    "print(\"Test Results:\")\n",
    "print(test_results_df)\n",
    "\n"
   ]
  },
  {
   "cell_type": "code",
   "execution_count": 476,
   "metadata": {},
   "outputs": [
    {
     "name": "stdout",
     "output_type": "stream",
     "text": [
      "DatetimeIndex(['2024-07-11 00:00:00-04:00', '2024-07-12 00:00:00-04:00'], dtype='datetime64[ns, America/New_York]', freq='D')\n"
     ]
    },
    {
     "data": {
      "text/plain": [
       "array([495.09343745, 496.04343791])"
      ]
     },
     "execution_count": 476,
     "metadata": {},
     "output_type": "execute_result"
    }
   ],
   "source": [
    "def predict_future_dates(model, last_known_data, scaler, num_predictions):\n",
    "    model.eval()\n",
    "    predictions = []\n",
    "    data = last_known_data\n",
    "    for _ in range(num_predictions):\n",
    "        input_data = torch.tensor(data.reshape(\n",
    "            1, lookback, 1)).float().to(device)\n",
    "        with torch.no_grad():\n",
    "            pred = model(input_data).cpu().numpy().flatten()\n",
    "        predictions.append(pred[0])\n",
    "        data = np.append(data[1:], pred)\n",
    "    predictions = np.array(predictions).reshape(-1, 1)\n",
    "    dummies = np.zeros((predictions.shape[0], lookback + 1))\n",
    "    dummies[:, 0] = predictions.flatten()\n",
    "    predictions = scaler.inverse_transform(dummies)[:, 0]\n",
    "    return predictions\n",
    "\n",
    "\n",
    "# Predict future dates\n",
    "num_future_predictions = 2\n",
    "last_known_data = X_test[-1].cpu().numpy()\n",
    "future_predictions = predict_future_dates(\n",
    "    model, last_known_data, scaler, num_future_predictions)\n",
    "\n",
    "# Create future dates\n",
    "last_date = test_results_df['Date'].iloc[-1]\n",
    "future_dates = pd.date_range(\n",
    "    start=last_date, periods=num_future_predictions)\n",
    "\n",
    "print(future_dates)\n",
    "future_predictions"
   ]
  },
  {
   "cell_type": "code",
   "execution_count": 477,
   "metadata": {},
   "outputs": [
    {
     "data": {
      "text/html": [
       "<div>\n",
       "<style scoped>\n",
       "    .dataframe tbody tr th:only-of-type {\n",
       "        vertical-align: middle;\n",
       "    }\n",
       "\n",
       "    .dataframe tbody tr th {\n",
       "        vertical-align: top;\n",
       "    }\n",
       "\n",
       "    .dataframe thead th {\n",
       "        text-align: right;\n",
       "    }\n",
       "</style>\n",
       "<table border=\"1\" class=\"dataframe\">\n",
       "  <thead>\n",
       "    <tr style=\"text-align: right;\">\n",
       "      <th></th>\n",
       "      <th>Predicted</th>\n",
       "      <th>Percent Change</th>\n",
       "    </tr>\n",
       "  </thead>\n",
       "  <tbody>\n",
       "    <tr>\n",
       "      <th>2024-07-11 00:00:00-04:00</th>\n",
       "      <td>495.093437</td>\n",
       "      <td>NaN</td>\n",
       "    </tr>\n",
       "    <tr>\n",
       "      <th>2024-07-12 00:00:00-04:00</th>\n",
       "      <td>496.043438</td>\n",
       "      <td>0.001919</td>\n",
       "    </tr>\n",
       "  </tbody>\n",
       "</table>\n",
       "</div>"
      ],
      "text/plain": [
       "                            Predicted  Percent Change\n",
       "2024-07-11 00:00:00-04:00  495.093437             NaN\n",
       "2024-07-12 00:00:00-04:00  496.043438        0.001919"
      ]
     },
     "execution_count": 477,
     "metadata": {},
     "output_type": "execute_result"
    }
   ],
   "source": [
    "predictions = pd.DataFrame(future_predictions, index=future_dates, columns=['Predicted'])\n",
    "predictions['Percent Change'] = predictions['Predicted'].pct_change()\n",
    "\n",
    "predictions"
   ]
  },
  {
   "cell_type": "code",
   "execution_count": null,
   "metadata": {},
   "outputs": [],
   "source": []
  }
 ],
 "metadata": {
  "kernelspec": {
   "display_name": "financial-markets",
   "language": "python",
   "name": "python3"
  },
  "language_info": {
   "codemirror_mode": {
    "name": "ipython",
    "version": 3
   },
   "file_extension": ".py",
   "mimetype": "text/x-python",
   "name": "python",
   "nbconvert_exporter": "python",
   "pygments_lexer": "ipython3",
   "version": "3.11.8"
  }
 },
 "nbformat": 4,
 "nbformat_minor": 2
}
